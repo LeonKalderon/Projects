{
 "cells": [
  {
   "cell_type": "markdown",
   "metadata": {},
   "source": [
    "# Numerical Optimization\n",
    "## Assignement 1 \n",
    "### Leon Kalderon"
   ]
  },
  {
   "cell_type": "markdown",
   "metadata": {},
   "source": [
    "Role of Pivoting\n",
    "\n",
    "The role of pivoting is to reduce instability(e.g Zero Pivots or Relatively Small Pivots) that is inherent in Gaussian elimination. Instability\n",
    "arises only if the factor L or U is relatively large in size compared to A. Pivoting reduces instablilty\n",
    "by ensuring that L and U are not too big relative to A. By keeping all of the intermediate quantites\n",
    "that appear in the elimination process a managable size, we can minimize rounding errors. \n",
    "\n",
    "source: http://buzzard.ups.edu/courses/2014spring/420projects/math420-UPS-spring-2014-reid-LU-pivoting.pdf\n",
    "\n",
    "General:\n",
    "<br>\n",
    "In order to have consistency in our code we tried to implement all the operations with numpy package.\n",
    "However, in some cases, numpy is not as efficient as the build-in python's operations. For example, when we add a mask to a table (np.add(U, MASK) ) numpy tries to allocate new space in memory to do the addition. Python can avoid that with '+='.\n",
    "In general, apart from the case mentioned above, we do all the operations with numpy. We could improve our performance ~20% if we replace similar operations but we prefered to show the numpy library because it is widely used in data science practices.\n",
    "<br>\n",
    "\n",
    "The code below have been implemented from scratch"
   ]
  },
  {
   "cell_type": "code",
   "execution_count": 1,
   "metadata": {},
   "outputs": [],
   "source": [
    "import numpy as np\n",
    "import time\n",
    "def LU(A, pivoting = 'Partial'):\n",
    "    \n",
    "    #pivoting parameter defines the pivot method (Partial or Complete)\n",
    "    if pivoting == 'Partial':\n",
    "        #Set the dimension of the array\n",
    "        n = len(A)\n",
    "\n",
    "        #Initialize arrays\n",
    "        #Instead of copying the matrix A to a new matrix U we could use A as U in order to save memory.\n",
    "        U = np.matrix(A) #Upper triangunal matrix\n",
    "        L = np.identity(n) #Lower triangunal matrix with ones in diagonal\n",
    "        P_index = np.arange(n) #Array with the indecies of permutations\n",
    "        \n",
    "        #We create this array in order to store the Lj's (-Uij/pivot). We initialize it here in order to avoid allocating \n",
    "        #memory in each iteration\n",
    "        c = np.zeros(n)       \n",
    "        \n",
    "\n",
    "        #Loop through columns of A\n",
    "        for k in range(0, n):\n",
    "\n",
    "            #Find the index of the row with the maximum value (at the current column). ~n^2 floops in total \n",
    "            maxRow = np.argmax(abs(U[k:,k])) + k\n",
    "            \n",
    "            #if the max value is not in the first row of the current sub-column swap rows   \n",
    "            if k != maxRow:\n",
    "                P_index[k], P_index[maxRow] = P_index[maxRow], P_index[k]\n",
    "                U[k,:], U[maxRow,:] = U[maxRow,:].copy() ,U[k,:].copy()\n",
    "                L[k, :], L[maxRow, :] = L[maxRow, :], L[k, :].copy()        \n",
    "\n",
    "                    \n",
    "            #Apply Gaussian elimination   ~2/3*n^3 floops in total\n",
    "            #In order to avoid subtracting multiples of rows with a loop \n",
    "            #we tried to transorm the gaussian elimination to a matrix addition            \n",
    "            c = np.zeros(n) \n",
    "            c[k + 1:] = np.divide(np.multiply([-1],U[k + 1:, k]), U[k, k]).flatten()            \n",
    "            #We know from the theory the matricies L1,L2,...,Ln can be compacted to the matrix L just by stacking the columns            \n",
    "            L[:,k] = c   \n",
    "            #We add the 'mask' matrix to the matrix U      \n",
    "            U[k:,k:] += np.outer(c[k:], U[k, k:])\n",
    "        \n",
    "        #We transform the P_index to a pertubed identity matrix so when we multiply P*A we have the pertubed A    \n",
    "        P = np.zeros((n, n))\n",
    "        for i in range(0, n):\n",
    "            P[i, P_index[i]] = 1\n",
    "\n",
    "        #From the theory we know that the inverse of the matrix L is the matrix L with the oposite \n",
    "        #sign to the values under the diagonal\n",
    "        L = np.multiply(np.tril(L, k=-1),[-1]) + np.identity(n)        \n",
    "        return P, L, U\n",
    "    \n",
    "    elif pivoting == 'Complete':\n",
    "        \n",
    "        #The implementation of the Complete pivoting is similar to Partial with only one major difference.\n",
    "        #Instead of searching in each iteration the maxValue of the column we search for the max values in the whole submatrix.\n",
    "        #and we tranfer it to the pivot position. Because of that we have to swap both rows and columns in each iteration.\n",
    "        n = len(A)   \n",
    "        U = np.matrix(A)\n",
    "        L = np.identity(n)\n",
    "        P_index = np.arange(n) \n",
    "        Q_index = np.arange(n)\n",
    "        c = np.zeros(n)\n",
    "\n",
    "      \n",
    "        for k in range(0, n):            \n",
    "            \n",
    "           \n",
    "            #~O(n^3). This part is the main reason of the execution time difference between Complete and Partial\n",
    "            maxElem = np.argmax(abs(U[k:, k:]))\n",
    "            maxRow, maxCol = np.divmod(maxElem, n-k)\n",
    "            maxRow += k\n",
    "            maxCol += k           \n",
    "            \n",
    "            if k != maxRow:\n",
    "                P_index[k], P_index[maxRow] = P_index[maxRow], P_index[k]\n",
    "                U[k,:], U[maxRow, :] = U[maxRow, :].copy() ,U[k,:].copy()\n",
    "                L[k, :], L[maxRow, :] = L[maxRow, :], L[k, :].copy()\n",
    "\n",
    "            if k != maxCol:\n",
    "                Q_index[k], Q_index[maxCol] = Q_index[maxCol], Q_index[k]     \n",
    "                U[:,k], U[:, maxCol] = U[:,maxCol].copy() ,U[:,k].copy()\n",
    "\n",
    "            c = np.zeros(n)        \n",
    "            c[k + 1:] = np.divide(np.multiply([-1],U[k + 1:n, k]), U[k, k]).flatten()\n",
    "            L[:,k] = c            \n",
    "            U[k:,k:] += np.outer(c[k:], U[k, k:]) \n",
    "\n",
    "        P = np.zeros((n, n))\n",
    "        for i in range(0, n):\n",
    "            P[i, P_index[i]] = 1\n",
    "\n",
    "        Q = np.zeros((n,n))\n",
    "        for i in range(0,n):\n",
    "            Q[Q_index[i],i] = 1\n",
    "\n",
    "        L = np.multiply(np.tril(L, k=-1),[-1]) + np.identity(n)\n",
    "        \n",
    "        return P, L, U, Q "
   ]
  },
  {
   "cell_type": "code",
   "execution_count": 2,
   "metadata": {},
   "outputs": [],
   "source": [
    "#Here we define the function that solves the system when we have a decomposed matrix to PLU or PLUQ form.\n",
    "def solve_LU( L, U, b, P = None, Q = None):\n",
    "    \n",
    "    #We tried to implement the backward and forward substituion with vector operations. Because of that we avoided one\n",
    "    #loop in each case and the exec.time difference was huge.\n",
    "    \n",
    "    n = len(L)    \n",
    "    #Permute b\n",
    "    if(P is not None):\n",
    "        b = np.matmul(P,b).transpose()\n",
    "        \n",
    "    # Perform Ly=b by forward substitution ~n^2 flops\n",
    "    y = np.zeros(n)    \n",
    "    for i in range(0,n):\n",
    "        y[i] = np.subtract(b[i], np.dot(L[i,:i], y[:i]))\n",
    "                    \n",
    "    # Perform Ux=y by back substitution ~n^2 flops\n",
    "    x = np.zeros(n)\n",
    "    for i in range(n-1,-1,-1):           \n",
    "        x[i] = np.divide(np.subtract(y[i], np.dot(U[i,i+1:], x[i+1:])), U[i,i])   \n",
    "                                  \n",
    "    #complete pivoting\n",
    "    if(Q is not None):\n",
    "        x = np.matmul(Q, x.T)\n",
    "        \n",
    "    #total flops ~2n^2\n",
    "    return x"
   ]
  },
  {
   "cell_type": "markdown",
   "metadata": {},
   "source": [
    "### LU decomposition and forward/backward substitution for 10 random matricies(2048x2048)\n",
    "~7 minutes execution time"
   ]
  },
  {
   "cell_type": "code",
   "execution_count": 3,
   "metadata": {},
   "outputs": [],
   "source": [
    "#We execute for 10 random matricies(2048x2048)the LU decomposition with partial and complete pivoting to count the mean execution time\n",
    "#and then we solve the systems with each method to calculate the mean error and correction over the infinity norm.\n",
    "#~7min to execut\n",
    "TimePartial = []\n",
    "ErrorPartial = []\n",
    "CorrectionPartial = []\n",
    "\n",
    "TimeComplete = []\n",
    "ErrorComplete = []\n",
    "CorrectionComplete = []\n",
    "\n",
    "LU_Matricies = []\n",
    "\n",
    "for i in range(0,10):\n",
    "    A = np.random.rand(2048, 2048)*10\n",
    "    x_true = np.random.rand(2048)*10\n",
    "    b = np.matmul(A, x_true)\n",
    "\n",
    "    start = time.time()\n",
    "    P,L,U = LU(A)\n",
    "    end = time.time()\n",
    "    TimePartial.append(end-start)\n",
    "    LU_Matricies.append([P,L,U])\n",
    "   \n",
    "    x = solve_LU(L,U, b, P = P)\n",
    "    ErrorPartial.append(np.linalg.norm(abs(x_true-x), np.inf))\n",
    "    CorrectionPartial.append(np.linalg.norm(abs(np.matmul(A,x)-b), np.inf))\n",
    "    \n",
    "    start = time.time()\n",
    "    P,L,U,Q = LU(A, pivoting = 'Complete')\n",
    "    end = time.time()\n",
    "    TimeComplete.append(end-start)\n",
    "    \n",
    "    x = solve_LU(L,U, b, P = P, Q=Q)\n",
    "    ErrorComplete.append(np.linalg.norm(abs(x_true-x), np.inf))\n",
    "    CorrectionComplete.append(np.linalg.norm(abs(np.matmul(A,x)-b), np.inf))    "
   ]
  },
  {
   "cell_type": "code",
   "execution_count": 7,
   "metadata": {},
   "outputs": [
    {
     "name": "stdout",
     "output_type": "stream",
     "text": [
      "PARTIAL PIVOTING\n",
      "Average exeuction time:  21.513371109962463\n",
      "Average error:  1.5585635004811138e-10\n",
      "Average correction:  1.6079866327345372e-10\n",
      "\n",
      "COMPLETE PIVOTING\n",
      "Average exeuction time:  40.4237952709198\n",
      "Average error:  1.5692915855680666e-10\n",
      "Average correction:  1.0622898116707802e-10\n"
     ]
    }
   ],
   "source": [
    "#Partial Pivoting Scores\n",
    "mean_TimeP = np.mean(TimePartial)\n",
    "mean_ErrorP = np.mean(ErrorPartial)\n",
    "mean_CorrectionP = np.mean(CorrectionPartial)\n",
    "\n",
    "#Complete Pivoting Scores\n",
    "mean_TimeC = np.mean(TimeComplete)\n",
    "mean_ErrorC = np.mean(ErrorComplete)\n",
    "mean_CorrectionC = np.mean(CorrectionComplete)\n",
    "\n",
    "print('PARTIAL PIVOTING')\n",
    "print('Average exeuction time: ', mean_TimeP)\n",
    "print('Average error: ', mean_ErrorP)\n",
    "print('Average correction: ', mean_CorrectionP)\n",
    "print()\n",
    "print('COMPLETE PIVOTING')\n",
    "print('Average exeuction time: ', mean_TimeC)\n",
    "print('Average error: ', mean_ErrorC)\n",
    "print('Average correction: ', mean_CorrectionC)"
   ]
  },
  {
   "cell_type": "markdown",
   "metadata": {},
   "source": [
    "PC specifications: processor HQ6700 and 16GB RAM\n",
    "Results:\n",
    "\n",
    "PARTIAL PIVOTING\n",
    "<br>\n",
    "Average exeuction time: 20.472789669036864\n",
    "<br>\n",
    "Average error: 1.0055005716935739e-10\n",
    "<br>\n",
    "Average correction:  1.520675141364336e-10\n",
    "\n",
    "COMPLETE PIVOTING\n",
    "Average exeuction time:  38.21425297260284\n",
    "<br>\n",
    "Average error:  6.797509222167263e-11\n",
    "<br>\n",
    "Average correction:  9.749783203005791e-11\n",
    "\n",
    "From the above results, we observe  that both methods achieve a quite accurate solution of the systems. More specifically, partial pivoting is ~10 digits accurate vs complete that is ~11 digits accurate(when we calculate the error and correction over the infinity norm). However, partial pivoting has ~20 seconds execution time vs the complete that has ~38. \n",
    "<br>\n",
    "As a result, we could claim that it is more efficient to use partial pivoting because it has almost the same error as the complete but a quite big difference in execution time.\n",
    "\n",
    "The difference of the execution times (between partial and complete pivoting GE) is quite consistent to the theory (small discrepancies may occur due to the code procedure).\n",
    "<br>\n",
    "Gaussian Elimination ~$2/3*n^2$\n",
    "<br>\n",
    "Partial Pivoting ~ $n^2$\n",
    "<br>\n",
    "Complete Pivoting ~$n^3$\n",
    "<br>\n",
    "Forward/Backward Substitution ~$n^2$ (total floops to solve the system of a decomposed matrix $2n^2$)\n",
    "<br>\n",
    "Thus, GE with partial pivoting needs ~$2/3*n^3 + n^2$ (~20 sec mean exec. time in our example)\n",
    "<br>\n",
    "GE with complete pivoting needs ~$2/3*n^3 + n^3$ (~40 sec mean exec.time in our example)"
   ]
  },
  {
   "cell_type": "code",
   "execution_count": 8,
   "metadata": {},
   "outputs": [],
   "source": [
    "#Construct the special case matrix\n",
    "SP = np.identity(2048)\n",
    "il1 = np.tril_indices(2048, k=-1)\n",
    "SP[il1] = -1\n",
    "SP[:, 2048-1] = 1"
   ]
  },
  {
   "cell_type": "markdown",
   "metadata": {},
   "source": [
    "### Execute Gaussian Elimination with Partial Pivoting on the special matrix"
   ]
  },
  {
   "cell_type": "code",
   "execution_count": 12,
   "metadata": {},
   "outputs": [
    {
     "name": "stderr",
     "output_type": "stream",
     "text": [
      "C:\\Users\\User\\Anaconda3\\lib\\site-packages\\ipykernel_launcher.py:42: RuntimeWarning: overflow encountered in add\n",
      "C:\\Users\\User\\Anaconda3\\lib\\site-packages\\numpy\\core\\numeric.py:1120: RuntimeWarning: invalid value encountered in multiply\n",
      "  return multiply(a.ravel()[:, newaxis], b.ravel()[newaxis,:], out)\n"
     ]
    },
    {
     "name": "stdout",
     "output_type": "stream",
     "text": [
      "GE with Complete pivoting:\n",
      "Exec.time 19.131837844848633\n",
      "Error nan\n",
      "Correction nan\n"
     ]
    }
   ],
   "source": [
    "start = time.time()\n",
    "P,L,U = LU(SP, pivoting = 'Partial')\n",
    "x_true = np.random.rand(2048)*10\n",
    "b = np.matmul(SP, x_true)\n",
    "\n",
    "x2 = solve_LU(L,U, b, P = P)\n",
    "end = time.time()\n",
    "\n",
    "print('GE with Complete pivoting:')\n",
    "print('Exec.time', end-start)\n",
    "print('Error',np.linalg.norm(abs(x_true-x2), np.inf))\n",
    "print('Correction', np.linalg.norm(abs(np.matmul(SP,x2)-b), np.inf))"
   ]
  },
  {
   "cell_type": "markdown",
   "metadata": {},
   "source": [
    "Observations:\n",
    "\n",
    "<br>\n",
    "With partial pivoting in each iteration we swap the largest absolute value of the current column to the pivot position.\n",
    "Because all the values of each column are the same in each iteration the algorithm does not swap any row and the scalars/multipliers(-Uij/Upivot) that we multiply each row in order to nullify the values below the pivot, are 1.\n",
    "<br>\n",
    "As a result, since the elements of the last column have the opposite signs than the pivots, the eliminations will double the value of the next row in each iteration. \n",
    "<br>\n",
    "Last column's pattern: $[2^0, 2^1, 2^2, ...., 2^{2048}]^T$.\n",
    "<br>\n",
    "As we just mentioned, the values in the last column become huge when n increases. That is a very important problem because, not only we will probably have problem with numerical instabilities when we do operations with these numbers(e.g. when we do forward and backward elimination to solve the system) but also these numbers cannot be represented by the computer on Double-precision floating-point format!\n",
    "<br>\n",
    "In this DPP format the biggest number that we can represent is ~$2^{1023}$ (~$10^{307}$). As a result the values in indecies >1023 will be NaNs because we cannot represent such numbers in our computers!  "
   ]
  },
  {
   "cell_type": "markdown",
   "metadata": {},
   "source": [
    "### Execute Gaussian Elimination with Complete Pivoting on the special matrix"
   ]
  },
  {
   "cell_type": "code",
   "execution_count": 14,
   "metadata": {},
   "outputs": [
    {
     "name": "stdout",
     "output_type": "stream",
     "text": [
      "GE with Complete pivoting:\n",
      "Exec.time 35.18087935447693\n",
      "Error 1.5969447986208252e-12\n",
      "Correction 1.8189894035458565e-12\n"
     ]
    }
   ],
   "source": [
    "start = time.time()\n",
    "P,L,U, Q = LU(SP, pivoting = 'Complete')\n",
    "x_true = np.random.rand(2048)*10\n",
    "b = np.matmul(SP, x_true)\n",
    "\n",
    "x = solve_LU(L,U, b, P = P, Q=Q)\n",
    "end = time.time()\n",
    "\n",
    "print('GE with Complete pivoting:')\n",
    "print('Exec.time', end-start)\n",
    "print('Error',np.linalg.norm(abs(x_true-x), np.inf))\n",
    "print('Correction', np.linalg.norm(abs(np.matmul(SP,x)-b), np.inf))"
   ]
  },
  {
   "cell_type": "markdown",
   "metadata": {},
   "source": [
    "It is quite straightforward why Complete Pivoting solves the problem we discussed above.\n",
    "<br>\n",
    "Because Complete pivoting swaps the max absulute value's column and row to the pivot position, in the second iteration where the last column will have the values 2 (except the first element which it will be 1), the column will be transfered to the pivot position and all the elements below the pivot (that in our cases is the 'ill' column will become zero).  \n",
    "\n",
    "The form of the matrix on the 2nd iteration after the swaps:\n",
    "<br>\n",
    "2nd iteration:\n",
    "<br>\n",
    "$11  0 .......0$\n",
    "<br>\n",
    "$020 .......1$\n",
    "<br>\n",
    "$..22 1...-1$\n",
    "<br>\n",
    "$... -1 ..-1$\n",
    "<br>\n",
    "$... .....-1$\n",
    "<br>\n",
    "$02..-1 ...-1$\n",
    "<br>\n",
    " "
   ]
  },
  {
   "cell_type": "markdown",
   "metadata": {},
   "source": [
    "### Sherman-Morrison formula\n",
    "\n",
    "When we have the LU decomposition of a matrix and we want to solve the system for a corrected A by a rank 1 matrix instead of recalculating the LU decomposition of $\\tilde{A}$ we can use the Sherman-Morrison formula and save a lot of time.\n",
    "\n",
    "$Formula$\n",
    "\n",
    "$\\tilde{A}^{-1} = (A + uv^T)^{-1} = A^{-1} - \\frac{A^{-1}uv^TA^{-1}}{1 + v^TA^{-1}u}$   proof:https://en.wikipedia.org/wiki/Sherman%E2%80%93Morrison_formula\n",
    "\n",
    "Thus, when we want to solve $\\tilde{A}y=d$ we can solve:\n",
    "<br>\n",
    "$y = (A + uv^T)^{-1}d = (A^{-1} - \\frac{1}{1 + v^TA^{-1}u}A^{-1}uv^TA^{-1})d$   \n",
    "\n",
    "As a result from the above equation, in order to find y, we just need to solve with forward/backward elimination:\n",
    "<br>\n",
    "$A^{-1}d = z <=> LUd = z$    ->  ~2n^2 floops\n",
    "<br>\n",
    "$v^Tz$ -> n floops\n",
    "<br>\n",
    "$A^{-1}u = k <=> LUu = k $ -> ~2n^2 floops\n",
    "\n",
    "In general, we can solve a linear system with $O(n^2)$ with Sherman-Morrison Formula"
   ]
  },
  {
   "cell_type": "code",
   "execution_count": 5,
   "metadata": {},
   "outputs": [],
   "source": [
    "#Generate random vectors u,v\n",
    "u = np.random.rand(2048,1)*30\n",
    "u=u/np.linalg.norm(u)\n",
    "\n",
    "v = np.random.rand(2048,1)*30\n",
    "v = v/np.linalg.norm(v)"
   ]
  },
  {
   "cell_type": "code",
   "execution_count": 6,
   "metadata": {},
   "outputs": [
    {
     "data": {
      "text/plain": [
       "0.13948631286621094"
      ]
     },
     "execution_count": 6,
     "metadata": {},
     "output_type": "execute_result"
    }
   ],
   "source": [
    "def sherman_morrison(P,L,U,b,u,v):\n",
    "    z = solve_LU(L, U, b, P = P)\n",
    "    k = solve_LU(L, U, u.flatten(), P = P)\n",
    "    \n",
    "    x_sm = z - ((1/(1+np.matmul(v.transpose(),k)))* k )* np.matmul(v.transpose(),z)\n",
    "    return x_sm\n",
    "\n",
    "start = time.time()\n",
    "sherman_morrison(LU_Matricies[0][0], LU_Matricies[0][1], LU_Matricies[0][2], b,u,v)\n",
    "end = time.time()\n",
    "total = end-start\n",
    "total"
   ]
  },
  {
   "cell_type": "markdown",
   "metadata": {},
   "source": [
    "In the list LU_matricies we had store all the LU decompositions of the 10 random matricies generated in the first part of the excercise.\n",
    "<br>\n",
    "We solve the the linear systems for all the 10 corrected matricies by a ranked 1 matrix and we calculate the mean execution time. "
   ]
  },
  {
   "cell_type": "code",
   "execution_count": 11,
   "metadata": {},
   "outputs": [
    {
     "name": "stdout",
     "output_type": "stream",
     "text": [
      "Mean exec.time with Sherman-Morrison: 0.09723839759826661\n"
     ]
    }
   ],
   "source": [
    "sm_exectm = []\n",
    "for i in range(0,10):\n",
    "    start = time.time()\n",
    "    sherman_morrison(LU_Matricies[i][0], LU_Matricies[i][1], LU_Matricies[i][2], b,u,v)\n",
    "    end = time.time()\n",
    "    total = end-start\n",
    "    sm_exectm.append(total)\n",
    "\n",
    "mean_sm = np.mean(sm_exectm)    \n",
    "print('Mean exec.time with Sherman-Morrison:', mean_sm)"
   ]
  },
  {
   "cell_type": "markdown",
   "metadata": {},
   "source": [
    "Results:\n",
    "<br>\n",
    "Mean execution time with SM formula ~0.1.\n",
    "<br>"
   ]
  },
  {
   "cell_type": "markdown",
   "metadata": {},
   "source": [
    "In order to show the difference in computational complexity of the two methods we solve for matricies with different sizes and then we check how the execution time changes as the n increases.\n",
    "\n",
    "The following code has execution time ~20mins.\n",
    "<br>\n",
    "In order to save time, we run the script and in the next cell we stored the results thus there is no need to re-run it again ."
   ]
  },
  {
   "cell_type": "code",
   "execution_count": 25,
   "metadata": {},
   "outputs": [],
   "source": [
    "# x_axis = []\n",
    "# y_sm = []\n",
    "# y_lu = []\n",
    "# for i in range(100,5000,500):\n",
    "#     A = np.random.rand(i, i)*10\n",
    "#     x_true = np.random.rand(i)*10\n",
    "#     b = np.matmul(A, x_true)\n",
    "    \n",
    "#     u = np.random.rand(i,1)*30\n",
    "#     u=u/np.linalg.norm(u)\n",
    "\n",
    "#     v = np.random.rand(i,1)*30\n",
    "#     v = v/np.linalg.norm(v)\n",
    "    \n",
    "#     P,L,U = LU(A)\n",
    "#     #sherman-morrison solve given that already have LU of A\n",
    "#     start = time.time()\n",
    "#     sherman_morrison(P, L, U, b,u,v)\n",
    "#     end = time.time()\n",
    "#     x_axis.append(i)\n",
    "#     y_sm.append(end-start)\n",
    "    \n",
    "#     #Solve the corrected A by recalculating LU decomposition and then solve the system\n",
    "#     start = time.time()\n",
    "#     correction = np.outer(u,v)\n",
    "#     A += correction\n",
    "#     start = time.time()\n",
    "#     P,L,U = LU(A)\n",
    "#     x = solve_LU(L,U, b, P = P)\n",
    "#     end = time.time()\n",
    "#     y_lu.append(end-start)    "
   ]
  },
  {
   "cell_type": "code",
   "execution_count": 1,
   "metadata": {},
   "outputs": [],
   "source": [
    "n = [100, 600, 1100, 1600, 2100, 2600, 3100, 3600, 4100, 4600]\n",
    "execTime_lu = [0.01595, 0.46974, 3.13864, 8.67679, 19.58362, 36.51834, 62.13283, 96.72433, 153.56743, 235.17306]\n",
    "execTime_sm = [0.00897, 0.0309169, 0.051861, 0.07081, 0.11070, 0.15658, 0.15761, 0.19647, 0.21542, 0.24733]"
   ]
  },
  {
   "cell_type": "markdown",
   "metadata": {},
   "source": [
    "It is obvious that as n increases the execution time with LU increases in a much sharper rate than that of the SM formula.\n",
    "<br>\n",
    "The difference of complexity is obvious just by looking the numbers.\n",
    "<br>\n",
    "However, we will try to plot the points of two approaches in order to show that the two curves have differt degree."
   ]
  },
  {
   "cell_type": "code",
   "execution_count": 6,
   "metadata": {},
   "outputs": [
    {
     "data": {
      "text/plain": [
       "<function matplotlib.pyplot.show(*args, **kw)>"
      ]
     },
     "execution_count": 6,
     "metadata": {},
     "output_type": "execute_result"
    },
    {
     "data": {
      "image/png": "[encoded data removed]",
      "text/plain": [
       "<Figure size 432x288 with 1 Axes>"
      ]
     },
     "metadata": {},
     "output_type": "display_data"
    }
   ],
   "source": [
    "import matplotlib.pyplot as plt\n",
    "%matplotlib inline\n",
    "plt.plot(n, execTime_sm)\n",
    "plt.plot(n, execTime_lu)\n",
    "plt.show"
   ]
  },
  {
   "cell_type": "markdown",
   "metadata": {},
   "source": [
    "Plotting the two curves of execution times side by side it is obvious that lu method has a bigger degree of complexity.\n",
    "However, for that small n we cannot show that the curve of SM is $O(n^2)$."
   ]
  }
 ],
 "metadata": {
  "kernelspec": {
   "display_name": "Python 3",
   "language": "python",
   "name": "python3"
  },
  "language_info": {
   "codemirror_mode": {
    "name": "ipython",
    "version": 3
   },
   "file_extension": ".py",
   "mimetype": "text/x-python",
   "name": "python",
   "nbconvert_exporter": "python",
   "pygments_lexer": "ipython3",
   "version": "3.6.5"
  }
 },
 "nbformat": 4,
 "nbformat_minor": 2
}
