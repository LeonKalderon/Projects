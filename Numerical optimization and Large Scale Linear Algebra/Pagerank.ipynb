{
 "cells": [
  {
   "cell_type": "markdown",
   "metadata": {},
   "source": [
    "## Numerical Optimization\n",
    "### Assignement 3\n",
    "### Leon Kalderon\n",
    "#### case: Pagerank"
   ]
  },
  {
   "cell_type": "markdown",
   "metadata": {},
   "source": [
    "sources: http://www.ams.org/publicoutreach/feature-column/fcarc-pagerank\n",
    "<br> \n",
    "https://pdfs.semanticscholar.org/43b6/d922bcfcc8f8fcd3e7d22c8dc732653d9571.pdf\n",
    "<br>\n",
    "https://www.researchgate.net/publication/314235791_PageRank_Algorithm\n",
    "<br>\n",
    "https://web.stanford.edu/class/cme324/saad.pdf\n",
    "<br>plus the pdf attached to the file that was my main source"
   ]
  },
  {
   "cell_type": "markdown",
   "metadata": {},
   "source": [
    "### Dataset\n",
    "The given dataset is a directed graph that represents the connectivity matrix\n",
    "for the webpages of Stanford University.\n",
    "\n",
    "First of all, we read the data and we create a sparce matrix that represents the graph of connections between different links. Every column of the matrix represents a node(link) and in the rows that have values we can find the other nodes that the node is connected with .\n",
    "<br>\n",
    "Because some nodes have only incoming links and not outgoing we have to create a vector $d$ that has values 0's and 1's(the ones will be in the indecies of the nodes that are dangling points and they have no outgoing links), this is the vector that is refered on the paper as $a$ but we prefer to assign it as $d$ so we do not confuse it with the scalar a."
   ]
  },
  {
   "cell_type": "code",
   "execution_count": 23,
   "metadata": {},
   "outputs": [
    {
     "name": "stdout",
     "output_type": "stream",
     "text": [
      "Wall time: 6.99 s\n"
     ]
    }
   ],
   "source": [
    "#we read the data and we create a sparce matrix\n",
    "fname = 'stanweb.txt'\n",
    "#import all the libraries that we will need\n",
    "import numpy as np\n",
    "from  scipy import sparse\n",
    "from scipy.sparse import identity\n",
    "from scipy.sparse import csr_matrix\n",
    "from scipy.sparse.linalg import spsolve_triangular\n",
    "\n",
    "def dataset2csr():\n",
    "    row = []\n",
    "    col = []    \n",
    "    val = []\n",
    "    with open(fname,'r') as f:\n",
    "        for line in f.readlines():\n",
    "            #unpack the elements of each line\n",
    "            origin, destiny, weight = (x for x in line.split()[0:3])\n",
    "            #We shift the nodes by -1 so the matrix have indecies from 0-n\n",
    "            row.append(int(destiny)-1)\n",
    "            col.append(int(origin)-1)\n",
    "            val.append(float(weight))\n",
    "    \n",
    "    NODES = max(np.max(row),np.max(col)) + 1  \n",
    "    S = sparse.csr_matrix((val,(row,col)),shape=(NODES,NODES))\n",
    "    \n",
    "    #dangling nodes\n",
    "    #We create the vector d that will have 1's as value on the dangling points indecies.\n",
    "    ind = np.setdiff1d(row, col)\n",
    "    d = np.zeros(NODES)\n",
    "    d[ind] = 1\n",
    "    return S, d, NODES\n",
    "\n",
    "%time S,d, NODES = dataset2csr()"
   ]
  },
  {
   "cell_type": "code",
   "execution_count": 24,
   "metadata": {},
   "outputs": [
    {
     "data": {
      "text/plain": [
       "172.0"
      ]
     },
     "execution_count": 24,
     "metadata": {},
     "output_type": "execute_result"
    }
   ],
   "source": [
    "np.sum(d)"
   ]
  },
  {
   "cell_type": "markdown",
   "metadata": {},
   "source": [
    "### Teleportation\n",
    "\n",
    "Our matrix assumes that a surfer can move only from one page to another by clicking on one of\n",
    "the hyperlinks of the web page he is currently visiting. This does not seem to be realistic: the surfer\n",
    "can also go to a certain webpage by entering the address of that page in the address bar of the\n",
    "browser. This is called teleportation.\n",
    "<br>\n",
    "We add teleportation to the model by supposing that a surfer moves to a page by clicking with\n",
    "probability α (with 0 < α < 1) and by teleportation with probability 1 - α. In the case of\n",
    "teleportation, the probability distribution for moving to a page is that of the general preference\n",
    "vector $p$.\n",
    "\n",
    "$\\textbf{Dangling columns}$\n",
    "We now replace the dangling columns containing only entries equal to zero, by the general\n",
    "vector $p$(it is a n-dim vector with values $1/n$). In general the dangling columns can be replaced by $p$ by adding to $S$ a\n",
    "matrix containing the desired dangling columns: $S + pd^T$ \n",
    "<br>\n",
    "with $d(i) = 1$ if the i-th column of S is a dangling column and 0 otherwise.\n",
    "\n",
    "Our model can now be described as a convex combination of the\n",
    "original matrix $S$ + $p$$d^T$ and the teleportation matrix $p$$1^T$ , existing only of columns equal to $p$,\n",
    "as follows:\n",
    "\n",
    "$G = a(S + pd^T) + (1-a)p1^T$"
   ]
  },
  {
   "cell_type": "markdown",
   "metadata": {},
   "source": [
    "### Power Method\n",
    "\n",
    "The Power method produces a sequence of vectors that converge to the eigenvector corresponding\n",
    "to the dominant eigenvalue, under the following assumptions:\n",
    "-   The square matrix concerned has a dominant eigenvalue.\n",
    "-   The initial vector has a non-zero component in the direction of the eigenvector correspond-\n",
    "ing to the dominant eigenvalue.\n",
    "\n",
    "The algorithmic proccess of power method is quitte simple.\n",
    "-  We start with a random vector $π_0$\n",
    "-  Multiply the $π_{k+1}$ = $Gπ_k$ where $π_k$ is normalized\n",
    "-  We stop the proccess when $||π_k - π_{k+1}|| < e$ ($e$ is user defined)\n",
    "\n",
    "Because matrix $G$ has not a single entry equal to zero, the given algorithm\n",
    "will be very slow. Besides that, there is an important reason why the implementation of the\n",
    "current algorithm is not desirable: storing matrix G requires a lot of memory space, because\n",
    "$N^2$ elements has to be stored. A sparser matrix would require less memory space. So, we have\n",
    "to avoid multiplications with matrix G and use a sparser matrix instead. To that end we take\n",
    "a closer look to the multiplication $Gπ_k$:\n",
    "\n",
    "$Gπ = aSπ + αpd^Τ + (1-a)p1^Tπ$\n",
    "\n",
    "Matrix $S$ is very sparse. Therefore,\n",
    "the matrix multiplication $Sπ$ can be done very fast by using the correct python library. The inner product $d^T$(to\n",
    "prevent dangling pages) is a simple calculation. Furthermore, note that $1^T$ = 1, because $π$\n",
    "sums up to one. Applying this yields\n",
    "<br>\n",
    "$Gπ = aSπ + (ad^Tπ + 1 - a)p$ (p.7 pdf)"
   ]
  },
  {
   "cell_type": "code",
   "execution_count": 19,
   "metadata": {},
   "outputs": [],
   "source": [
    "def power_method(S, a=0.85, epsilon=10**-8, d = d, converge = False):\n",
    "    \n",
    "    #converge: When this parameter is True we use this function in order to see how the components converge to their limits\n",
    "    #d: it is a vector that contains 1 if the node is a dangling node and 0 otherwise (we created this vector when we read the data)\n",
    "    \n",
    "    #dimensions of the matrix\n",
    "    n,_ = S.shape\n",
    "    #(1-a)/n vector\n",
    "    b = np.repeat((1-a)/n,n)\n",
    "    \n",
    "    p = np.ones(n)/n\n",
    "    #we store a*S in order to avoid this multiplication in each iteration\n",
    "    Salpha = a*S\n",
    "    \n",
    "    if converge == True:\n",
    "        conv = np.zeros(n)\n",
    "        \n",
    "    #Initialize a random vector as starting point\n",
    "    ranks = np.random.rand(n)\n",
    "    \n",
    "    i = 0\n",
    "    flag = True    \n",
    "    while flag:        \n",
    "        i +=1        \n",
    "        #calculate the ranks of the current iteration from the formula described above\n",
    "        new_ranks = Salpha.dot(ranks) + (np.dot(np.dot(d,ranks),p)) + b\n",
    "        #normalize the vector with the ranks\n",
    "        new_ranks /= np.linalg.norm(new_ranks, ord = 1)\n",
    "        \n",
    "        #We store into the array conv the number of iterations that each componenent did until convergence. \n",
    "        if converge == True:\n",
    "            conv[(abs(np.subtract(new_ranks,ranks)) <= epsilon) & (conv==0)] = i\n",
    "            \n",
    "        if np.linalg.norm(new_ranks-ranks,ord=1)<=epsilon:\n",
    "            flag = False        \n",
    "        ranks = np.copy(new_ranks)\n",
    "    if converge == False:\n",
    "        return ranks, i \n",
    "    else:\n",
    "        #We return an array with the number of iterations every NODE needed to reach its limits\n",
    "        #The nodes are ordered from the most important to the least ones\n",
    "        return conv[ranks.argsort()[:][::-1]]"
   ]
  },
  {
   "cell_type": "markdown",
   "metadata": {},
   "source": [
    "### Linear System Approach\n",
    "We obtain a linear system of our model as follows\n",
    "\n",
    "$π_{k+1} = G π_k$ $(1)$\n",
    "<br>\n",
    "with $G = a(S + pd^Τ) + (1-a)p1^T$\n",
    "<br>\n",
    "Now, we can simplify $(1)$to:\n",
    "<br>\n",
    "$π_{k+1} = a(S+pd^T)π_k + (1-a)p$\n",
    "<br>\n",
    "because $1^Tπ=1$, we rewrite it as a linear system:\n",
    "<br>\n",
    "$(I-a(S+pd^T))π = (1-a)p$ $(2)$\n",
    "<br>\n",
    "\n",
    "For reasons of notation, we will write $(2)$ as\n",
    "<br>\n",
    "$Aπ = (1-α)p$ with $A = (I-aH)$ , $H = S + pd^T$ \n",
    "\n",
    "### Iterative method- Gauss Siedel\n",
    "Iterative methods generate a sequence of\n",
    "approximate solutions ${x_k}$ of a linear system $Ax = b$. The basic iterative methods are based\n",
    "on a certain splitting of matrix A in a matrix M for which the system $My = c$ is 'easy' to solve\n",
    "and the remaining matrix\n",
    "<br>\n",
    "<br>\n",
    "$R = M-A$,\n",
    "<br>\n",
    "which changes the linear system into\n",
    "<br>\n",
    "$Mx = Rx + b$\n",
    "<br>\n",
    "<br>\n",
    "The corresponding iteration is \n",
    "<br>\n",
    "$Mx_{k+1}=Rx_k + b$ $(3)$\n",
    "\n",
    "### Gauss Siedel Iteration\n",
    "<br>\n",
    "The Gauss-Seidel iteration is based on a splitting of A in a lower and upper triangular part:\n",
    "<br>\n",
    "$M_G = diag(A) + lower(A)$ and\n",
    "<br>\n",
    "$R_G = M_G - A = diag(A) + lower(A) - A = -upper(A)$\n",
    "\n",
    "However, in order to use the efficient computational calculations of sparce matricies, we can separate dangling nodes and we can rewrite these matricies as:\n",
    "<br>\n",
    "$M_{G_M}$ = diag($\\grave{A}$) + lower($\\grave{A}$), where $\\grave{A} = I - aS$ which we can simplify to $M_{G_M}$ = $I -$diag($aS$) $-$ lower($aS$) $(4)$\n",
    "\n",
    "Consequently, the upper triangular part will be:\n",
    "<br>\n",
    "$R_{G_M} = M_{G_M} - A = I - diag(aS) - lower(aS) - I + aS + apd^T$\n",
    "<br>\n",
    "$= upper(aS) + apd^T$ $=$ $\\grave{R_{G_M}}$$+ apd^T$ with $\\grave{R_{G_M}}$ $= upper(aS)$ $(5)$\n",
    "\n",
    "With the above transformations, we can rewrite $(3)$ as:\n",
    "<br>\n",
    "$π_{k+1} = M^{-1}_{G_M}$$(\\grave{R_{G_M}}π_k + apd^Tπ_k + b)$ $(6)$ This is the final formula that we will use in our code to find the dominant eigenvector "
   ]
  },
  {
   "cell_type": "code",
   "execution_count": 20,
   "metadata": {},
   "outputs": [],
   "source": [
    "def gauss_siedel(S, a = 0.85, e = 10**-8, d=d, converge = False):\n",
    "    n,_ = S.shape    \n",
    "    #We create the matrix described in equation (4)\n",
    "    M_Gm = identity(n) - sparse.tril(S, k = 0)\n",
    "    #(5)\n",
    "    Rt_Gm = sparse.triu(S, k = 1)\n",
    "    \n",
    "    alphaS = a*S\n",
    "    p = np.ones(n)/n\n",
    "    #This is the b of the equation (3), we can see in in equation (2) that b =(1-a)*p\n",
    "    b = (1-a) * p \n",
    "    \n",
    "    if converge == True:\n",
    "        conv = np.zeros(n)\n",
    "    \n",
    "    #Initialize a random vector as starting point\n",
    "    ranks = np.random.rand(n)\n",
    "    i = 0\n",
    "    flag = True\n",
    "    while flag:\n",
    "        i += 1\n",
    "        \n",
    "        #This is the formula of equation (6)\n",
    "        #spsolve_triangular() this function solves efficiently linear systems of sparce triangular matricies\n",
    "        #https://docs.scipy.org/doc/scipy/reference/generated/scipy.sparse.linalg.spsolve_triangular.html        \n",
    "        new_ranks = spsolve_triangular(M_Gm,(Rt_Gm.dot(ranks) + a*p*np.dot(d,ranks) + b))\n",
    "        #Normalize the vector       \n",
    "        new_ranks /= np.linalg.norm(new_ranks,ord=1)\n",
    "        \n",
    "        #We store into the array conv the number of iterations that each componenent did until convergence. \n",
    "        if converge == True:\n",
    "            conv[(abs(np.subtract(new_ranks,ranks)) <= e) & (conv==0)] = i       \n",
    "\n",
    "        if np.linalg.norm(ranks-new_ranks, ord=1) <= e:\n",
    "            flag = False\n",
    "        ranks = new_ranks\n",
    "        \n",
    "    if converge == False:\n",
    "        return ranks, i \n",
    "    else:\n",
    "        #We return an array with the number of iterations every NODE needed to reach its limits\n",
    "        #The nodes are ordered from the most important to the least ones\n",
    "        return conv[ranks.argsort()[:][::-1]]"
   ]
  },
  {
   "cell_type": "markdown",
   "metadata": {},
   "source": [
    "### Power Method and Gauss Siedel for a = 0.85"
   ]
  },
  {
   "cell_type": "code",
   "execution_count": 21,
   "metadata": {},
   "outputs": [
    {
     "name": "stdout",
     "output_type": "stream",
     "text": [
      "Wall time: 2.25 s\n",
      "Top seven links with Power method [ 89073 226411 241454 262860 134832 234704 136821]\n",
      "\n",
      "Number of iterations: 95\n"
     ]
    }
   ],
   "source": [
    "#Power method\n",
    "%time ranks85_pm, iters = power_method(S, a = 0.85, d = d)\n",
    "\n",
    "print('Top seven links with Power method',ranks85_pm.argsort()[-7:][::-1] + 1)\n",
    "print()\n",
    "print('Number of iterations:', iters)"
   ]
  },
  {
   "cell_type": "code",
   "execution_count": 22,
   "metadata": {},
   "outputs": [
    {
     "data": {
      "text/plain": [
       "array([5.33556392e-07, 1.17168578e-04, 8.27374909e-07, ...,\n",
       "       5.37213605e-07, 1.80892335e-06, 1.47952695e-06])"
      ]
     },
     "execution_count": 22,
     "metadata": {},
     "output_type": "execute_result"
    }
   ],
   "source": [
    "ranks85_pm"
   ]
  },
  {
   "cell_type": "code",
   "execution_count": 82,
   "metadata": {},
   "outputs": [
    {
     "name": "stdout",
     "output_type": "stream",
     "text": [
      "Wall time: 1min 50s\n",
      "Top seven links with Gauss Siedel [ 89073 226411 241454 262860 134832 234704 136821]\n",
      "\n",
      "Number of iterations: 60\n"
     ]
    }
   ],
   "source": [
    "%time ranks85_gs, iters = gauss_siedel(S,a = 0.85, d = d)\n",
    "\n",
    "print('Top seven links with Gauss Siedel',ranks85_gs.argsort()[-7:][::-1] + 1)\n",
    "print()\n",
    "print('Number of iterations:', iters)"
   ]
  },
  {
   "cell_type": "markdown",
   "metadata": {},
   "source": [
    "$\\textbf{Results for a = 0.85}$\n",
    "\n",
    "Power Method \n",
    "<br>\n",
    "top ranks: [ 89073 226411 241454 262860 134832 234704 136821]\n",
    "<br>\n",
    "iterations: 95\n",
    "<br>\n",
    "Execution Time : ~2sec\n",
    "\n",
    "Gauss Seidel\n",
    "<br>\n",
    "top ranks: [ 89073 226411 241454 262860 134832 234704 136821]\n",
    "<br>\n",
    "iterations: 60\n",
    "<br>\n",
    "Execution time: ~ 100 sec\n",
    "\n",
    "Observations\n",
    "<br>\n",
    "We observe that the two methods gave us the same top rated links. \n",
    "<br>\n",
    "The execution of Gauss-Seidel method takes much more time than the execution of the Power method, while it finished in less iterations.\n",
    "<br>\n",
    "However, this huge difference in execution times may occur due to unoptimizated code.\n"
   ]
  },
  {
   "cell_type": "markdown",
   "metadata": {},
   "source": [
    "### Power Method and Gauss Siedel for a = 0.99"
   ]
  },
  {
   "cell_type": "code",
   "execution_count": 8,
   "metadata": {},
   "outputs": [
    {
     "name": "stdout",
     "output_type": "stream",
     "text": [
      "Wall time: 32.7 s\n",
      "Top eight links [ 89073 281772 174665 226411 179645 271409 262860]\n",
      "\n",
      "Number of iterations: 1451\n"
     ]
    }
   ],
   "source": [
    "#~35 secs\n",
    "%time ranks99_pm, iters = power_method(S,a = 0.99, d = d)\n",
    "\n",
    "print('Top eight links',ranks99_pm.argsort()[-7:][::-1] + 1)\n",
    "print()\n",
    "print('Number of iterations:', iters)"
   ]
  },
  {
   "cell_type": "code",
   "execution_count": 6,
   "metadata": {
    "scrolled": true
   },
   "outputs": [
    {
     "name": "stdout",
     "output_type": "stream",
     "text": [
      "Wall time: 20min 29s\n",
      "Top seven links with Gauss Siedel [281772  89073 174665 226411 179645 271409 262860]\n",
      "\n",
      "Number of iterations: 608\n"
     ]
    }
   ],
   "source": [
    "# ~20 mins to execute (can be skipped)\n",
    "# %time ranks99_gs, iters = gauss_siedel(S,a = 0.99, d = d)\n",
    "\n",
    "# print('Top seven links with Gauss Siedel',ranks99_gs.argsort()[-7:][::-1] + 1)\n",
    "# print()\n",
    "# print('Number of iterations:', iters)"
   ]
  },
  {
   "cell_type": "markdown",
   "metadata": {},
   "source": [
    "$\\textbf{Results for a = 0.99}$\n",
    "\n",
    "Power Method \n",
    "<br>\n",
    "top ranks: [ 89073 281772 174665 226411 179645 271409 262860]\n",
    "<br>\n",
    "iterations: 1451\n",
    "<br>\n",
    "Execution Time : ~35sec\n",
    "\n",
    "Gauss Seidel\n",
    "<br>\n",
    "top ranks: [ 89073 281772 174665 226411 179645 271409 262860]\n",
    "<br>\n",
    "iterations: 608\n",
    "<br>\n",
    "Execution time: ~ 20 minutes\n",
    "\n",
    "Observations\n",
    "<br>\n",
    "We observed that the top ranking links have changed. However, 89073 is still first."
   ]
  },
  {
   "cell_type": "markdown",
   "metadata": {},
   "source": [
    "### First 50 nodes for alpha 0.85-0.99"
   ]
  },
  {
   "cell_type": "code",
   "execution_count": 9,
   "metadata": {},
   "outputs": [
    {
     "data": {
      "text/plain": [
       "26"
      ]
     },
     "execution_count": 9,
     "metadata": {},
     "output_type": "execute_result"
    }
   ],
   "source": [
    "pm85 = ranks85_pm.argsort()[-51:][::-1]\n",
    "pm99 =  ranks99_pm.argsort()[-51:][::-1]\n",
    "\n",
    "np.sum(np.isin(pm85, pm99))"
   ]
  },
  {
   "cell_type": "markdown",
   "metadata": {},
   "source": [
    "$\\textbf{Results}$\n",
    "\n",
    "We observe that only 26 of the 50 nodes are the same for a 0.99 and 0.85.\n",
    "<br>\n",
    "However, the most of these 26 nodes are not in the same ranking place."
   ]
  },
  {
   "cell_type": "markdown",
   "metadata": {},
   "source": [
    "### Convergence"
   ]
  },
  {
   "cell_type": "markdown",
   "metadata": {},
   "source": [
    "In order to see how the NODES converge to their limit, we store in a vector the number of iterations that each component needs to reach its limits.\n",
    "<br>\n",
    "As  limit we consider that $|π_i^k - π_i^{k+1}| <= 10^{-8}$"
   ]
  },
  {
   "cell_type": "markdown",
   "metadata": {},
   "source": [
    "$\\textbf{Power Method Converge}$"
   ]
  },
  {
   "cell_type": "code",
   "execution_count": 68,
   "metadata": {},
   "outputs": [],
   "source": [
    "#The number of iterations every node needs until it converges to its limits \n",
    "#The array conv its ordered from the most important nodes to the least important \n",
    "conv_pm = power_method(S, converge = True)"
   ]
  },
  {
   "cell_type": "markdown",
   "metadata": {},
   "source": [
    "Because we have too many nodes we splitted them to chunks of equal size and then we found the mean of each chunk"
   ]
  },
  {
   "cell_type": "code",
   "execution_count": 69,
   "metadata": {},
   "outputs": [],
   "source": [
    "#Split into chunks\n",
    "chunks_pm = np.array_split(conv_pm,100)"
   ]
  },
  {
   "cell_type": "code",
   "execution_count": 70,
   "metadata": {},
   "outputs": [],
   "source": [
    "#Calculate the mean of each chunk\n",
    "mean_iter_per_chunk_pm = []\n",
    "for i in range(0,100):\n",
    "    mean_iter_per_chunk_pm.append(np.mean(chunks_pm[i]))"
   ]
  },
  {
   "cell_type": "code",
   "execution_count": 60,
   "metadata": {
    "collapsed": true
   },
   "outputs": [
    {
     "data": {
      "text/plain": [
       "[26.9790780141844,\n",
       " 21.442553191489363,\n",
       " 19.626595744680852,\n",
       " 18.451933309684286,\n",
       " 19.404043987229514,\n",
       " 18.25008868393047,\n",
       " 16.842497339482087,\n",
       " 16.574671869457255,\n",
       " 16.505498403689252,\n",
       " 18.67009577864491,\n",
       " 18.39091876551969,\n",
       " 20.38701667257893,\n",
       " 21.807023767293366,\n",
       " 22.853494146860587,\n",
       " 22.555516140475344,\n",
       " 25.44519333096843,\n",
       " 23.337353671514723,\n",
       " 24.736076622915927,\n",
       " 16.46009223128769,\n",
       " 13.469670095778644,\n",
       " 11.870521461511174,\n",
       " 10.86200780418588,\n",
       " 10.876551968783257,\n",
       " 11.821213196168854,\n",
       " 12.728981908478184,\n",
       " 14.137282724370344,\n",
       " 12.628591699184108,\n",
       " 10.891450869102519,\n",
       " 13.290528556225611,\n",
       " 13.269953884356156,\n",
       " 15.808797445902803,\n",
       " 14.9418233416105,\n",
       " 14.025540971975879,\n",
       " 13.490244767648102,\n",
       " 10.578573962398014,\n",
       " 10.101809152181625,\n",
       " 9.72685349414686,\n",
       " 8.27172756296559,\n",
       " 8.909542390918766,\n",
       " 8.117062788222775,\n",
       " 8.792479602695991,\n",
       " 8.840368925150763,\n",
       " 8.57396239801348,\n",
       " 8.472507981553742,\n",
       " 8.53600567577155,\n",
       " 8.515076268180206,\n",
       " 8.367506207875133,\n",
       " 8.15431003902093,\n",
       " 7.958495920539198,\n",
       " 7.886129833274211,\n",
       " 8.16566158212132,\n",
       " 7.684994678964172,\n",
       " 7.552678254700249,\n",
       " 7.290173820503725,\n",
       " 6.643845335225257,\n",
       " 6.516140475345868,\n",
       " 6.475700603050727,\n",
       " 6.571124512238383,\n",
       " 6.868038311457964,\n",
       " 6.839304717985101,\n",
       " 7.030862007804186,\n",
       " 6.712309329549486,\n",
       " 6.391628236963462,\n",
       " 6.155374246186591,\n",
       " 6.2039730400851365,\n",
       " 5.743880808797446,\n",
       " 5.913799219581412,\n",
       " 6.017027314650585,\n",
       " 5.771904930826534,\n",
       " 5.6963462220645615,\n",
       " 5.741752394466123,\n",
       " 5.398368215679319,\n",
       " 4.834338417878681,\n",
       " 5.517914153955303,\n",
       " 5.830791060659808,\n",
       " 5.778290173820504,\n",
       " 5.578928698119901,\n",
       " 6.288045406172402,\n",
       " 5.905640297978007,\n",
       " 4.8581057112451225,\n",
       " 4.84959205391983,\n",
       " 4.631429584959205,\n",
       " 4.548066690315715,\n",
       " 4.330968428520752,\n",
       " 4.276339127350124,\n",
       " 4.158566867683576,\n",
       " 3.8680383114579637,\n",
       " 4.117772259666548,\n",
       " 3.8985455835402627,\n",
       " 3.9553032990422134,\n",
       " 3.5342319971621143,\n",
       " 3.618304363249379,\n",
       " 3.0673997871585668,\n",
       " 3.0,\n",
       " 3.0,\n",
       " 3.0,\n",
       " 3.0,\n",
       " 3.0,\n",
       " 3.0,\n",
       " 3.0]"
      ]
     },
     "execution_count": 60,
     "metadata": {},
     "output_type": "execute_result"
    }
   ],
   "source": [
    "mean_iter_per_chunk_pm"
   ]
  },
  {
   "cell_type": "code",
   "execution_count": 72,
   "metadata": {},
   "outputs": [
    {
     "data": {
      "text/plain": [
       "<function matplotlib.pyplot.show(*args, **kw)>"
      ]
     },
     "execution_count": 72,
     "metadata": {},
     "output_type": "execute_result"
    },
    {
     "data": {
      "image/png": "[encoded data removed]",
      "text/plain": [
       "<Figure size 432x288 with 1 Axes>"
      ]
     },
     "metadata": {},
     "output_type": "display_data"
    }
   ],
   "source": [
    "import matplotlib.pyplot as plt\n",
    "%matplotlib inline\n",
    "\n",
    "plt.plot(mean_iter_per_chunk_pm)\n",
    "plt.ylabel('Mean Number of Iters per Chunk')\n",
    "plt.xlabel('Chunks')\n",
    "plt.show"
   ]
  },
  {
   "cell_type": "markdown",
   "metadata": {},
   "source": [
    "Results:\n",
    "<br>\n",
    "Generally, we observe that for the Power Method the most important nodes need more iterations until they reach their limits."
   ]
  },
  {
   "cell_type": "markdown",
   "metadata": {},
   "source": [
    "$\\textbf{Gauss Siedel Converge}$\n",
    "\n",
    "We work the same way for the Gauss Siedel method\n",
    "<br>\n",
    "~2min execution time"
   ]
  },
  {
   "cell_type": "code",
   "execution_count": 52,
   "metadata": {},
   "outputs": [],
   "source": [
    "conv_gs = gauss_siedel(S, converge = True)\n",
    "chunks_gs = np.array_split(conv_gs,100)\n",
    "#Calculate the mean of each chunk\n",
    "mean_iter_per_chunk_gs = []\n",
    "for i in range(0,100):\n",
    "    mean_iter_per_chunk_gs.append(np.mean(chunks_gs[i]))\n",
    "    "
   ]
  },
  {
   "cell_type": "code",
   "execution_count": 57,
   "metadata": {},
   "outputs": [
    {
     "data": {
      "text/plain": [
       "<function matplotlib.pyplot.show(*args, **kw)>"
      ]
     },
     "execution_count": 57,
     "metadata": {},
     "output_type": "execute_result"
    },
    {
     "data": {
      "image/png": "[encoded data removed]",
      "text/plain": [
       "<Figure size 432x288 with 1 Axes>"
      ]
     },
     "metadata": {},
     "output_type": "display_data"
    }
   ],
   "source": [
    "import matplotlib.pyplot as plt\n",
    "%matplotlib inline\n",
    "\n",
    "plt.plot(mean_iter_per_chunk_gs)\n",
    "plt.ylabel('Mean Number of Iters per Chunk')\n",
    "plt.xlabel('Chunks')\n",
    "plt.show"
   ]
  },
  {
   "cell_type": "markdown",
   "metadata": {},
   "source": [
    "Results:\n",
    "<br>\n",
    "Same as the Power Method, with the Gauss Siedel Method the most important nodes need more iterations until they reach their limits. "
   ]
  },
  {
   "cell_type": "markdown",
   "metadata": {},
   "source": [
    "### Theoretical excercises"
   ]
  },
  {
   "cell_type": "markdown",
   "metadata": {},
   "source": [
    "$\\textbf{Genereal}:$\n",
    "\n",
    "main sources: https://web.stanford.edu/class/cs224w/slides/handout-page_rank.pdf\n",
    "<br>\n",
    "http://snap.stanford.edu/class/cs246-2014/slides/09-pagerank.pdf\n",
    "\n",
    "Let $r_i$ be the PageRank of node $i$, and $d_i$ be its outdegree. Then we can define the PageRank\n",
    "of node $j$ to be:\n",
    "\n",
    " $r_i^{k+1} = \\sum_{i->j}\\frac{r_j^{k}}{d_j}$ where $r_j$ is the rank of page j and $d_j$ the outlinks.\n",
    " \n",
    " That is, each of the neighbors that point to node j contribute to j’s PageRank, and the\n",
    "contribution is based on how authoritative the neighbor is (i.e. the neighbor’s own PageRank)\n",
    "and how many nodes the neighbor endorses.\n",
    "\n",
    "From this formulation, we can understand that every node's rank is dependent on its incoming links. More specifically, it is dependent from the importance of the nodes that link to the node $j$.\n",
    "<br>\n",
    "Also, every node, equally tranfers its importance to its outgoings links.\n"
   ]
  },
  {
   "cell_type": "markdown",
   "metadata": {},
   "source": [
    "$\\textbf{Teleportation}$\n",
    "\n",
    "One of the problems with the way we formulated PageRank is that some nodes might not\n",
    "have any out-links. In this case, the random web surfer gets stuck at a “dead end” and can’t\n",
    "visit any more pages, ruining our plans. Similarly, the web surfer may get stuck in a “spider\n",
    "trap” of pages where all the links only point to pages inside the spider trap. In that case, the\n",
    "pages in the spider trap eventually absorb all the PageRank, leaving none of the PageRank\n",
    "for other pages.\n",
    "In order to deal with the spider trap problem, we add an escape route. We say that with\n",
    "probability α (which is usually about 0.8 or 0.9), the web surfer follows an out-link at random,\n",
    "but with probability 1 − α, he jumps to some random webpage. In the case of a dead end,\n",
    "the web surfer jumps to a random webpage 100% of the time.\n",
    "With this modification, the new PageRank equation becomes:\n",
    "\n",
    "$r_i^{k+1} = \\sum_{i->j}α*\\frac{r_j^{k}}{d_j} + (1-α)\\frac{1}{n}$"
   ]
  },
  {
   "cell_type": "markdown",
   "metadata": {},
   "source": [
    "$\\textbf{Question A}$\n",
    "\n",
    "Let's assume that we add a new Node $X$ in our graph without any outgoing or ingoing links.\n",
    "<br>\n",
    "The first part of the formula it is not going to change because $X$ has not any connection with other nodes.\n",
    "<br>\n",
    "The second part of the equation ($(1-α)\\frac{1}{n}$) will slightly change to $(1-α)\\frac{1}{n+1}$ but because $n$ is a very large number we can say that this difference is insignificant, thus $(1-α)\\frac{1}{n} \\cong (1-α)\\frac{1}{n+1}$.\n",
    "\n",
    "All in all, when we add a node that is disconnected from the graph the rankinks do not change."
   ]
  },
  {
   "cell_type": "markdown",
   "metadata": {},
   "source": [
    "$\\textbf{Question B}$\n",
    "\n",
    "Let's assume that we add a new node $Y$ in our graph that has only one outgoing link to the node $X$ of the previous question.\n",
    "\n",
    "The ranking of page $X$ will slightly increace by the ranking of page $Y$.\n",
    "<br>\n",
    "$r'_x = r_x + \\frac{r_y}{1}$ ($\\frac{r_y}{1}$ because $r_y$ has only one outgoing link)\n",
    "<br>\n",
    "However, the only ranking that these two pages have derives from the teleportation part of the equation so:\n",
    "<br>\n",
    "$r'_x = 2*(1-α)\\frac{1}{n+2}$\n",
    "\n",
    "Also, we can say that the rest PageRanks remain unchange because $n$ is very big thus $(1-α)\\frac{1}{n} \\cong (1-α)\\frac{1}{n+2}$"
   ]
  },
  {
   "cell_type": "markdown",
   "metadata": {},
   "source": [
    "$\\textbf{Question C}$\n",
    "\n",
    "Now, we assume that we add one more new node $Z$.\n",
    "<br>\n",
    "In order to maximize $X$ we have to add new connections from $X$ to the other two nodes ($Y,Z$) in order to increace the importance of these two nodes. Following the same logic, we connect $Y$ with $X, Z$ and $Z$ with $X, Y$. That way, we maximize the importance of all nodes, thus the importance that $X$ derives from the other two nodes. "
   ]
  },
  {
   "cell_type": "markdown",
   "metadata": {},
   "source": [
    "$\\textbf{Question D}$\n",
    "\n",
    "Adding new connections to older important pages will not improve the rank of $X$. The rank of $X$ is dependent on its incoming nodes; None of the old pages is linking to $X$. The same holds for $Y$ and $Z$. Even if these pages(Y,Z) link to $X$ and by increasing their ranks we increase the rank of $X$, this method will not increase the ranks of $Y$, $Z$ so neither of $X$\n"
   ]
  },
  {
   "cell_type": "markdown",
   "metadata": {},
   "source": [
    "$\\textbf{Question E}$\n",
    "\n",
    "Thinking the same way as question C. When we have $m$ nodes and we want to maximize the rank of $X$ we have to connect them all to each other (including $X$) so recursively we maximize the rank of these nodes thus the ranking that $X$ derives from these $m$ nodes.\n",
    "\n",
    "\n"
   ]
  }
 ],
 "metadata": {
  "kernelspec": {
   "display_name": "Python 3",
   "language": "python",
   "name": "python3"
  },
  "language_info": {
   "codemirror_mode": {
    "name": "ipython",
    "version": 3
   },
   "file_extension": ".py",
   "mimetype": "text/x-python",
   "name": "python",
   "nbconvert_exporter": "python",
   "pygments_lexer": "ipython3",
   "version": "3.6.5"
  }
 },
 "nbformat": 4,
 "nbformat_minor": 2
}
