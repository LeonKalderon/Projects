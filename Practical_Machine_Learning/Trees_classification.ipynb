{
 "cells": [
  {
   "cell_type": "code",
   "execution_count": 27,
   "metadata": {},
   "outputs": [],
   "source": [
    "import pandas as pd\n",
    "import numpy as np\n",
    "from pandas.tools.plotting import scatter_matrix\n",
    "import matplotlib.pyplot as plt\n",
    "%matplotlib inline\n",
    "from sklearn.metrics import classification_report\n",
    "from sklearn.metrics import confusion_matrix\n",
    "from sklearn.metrics import accuracy_score\n",
    "from sklearn.tree import DecisionTreeClassifier\n",
    "from sklearn.ensemble import RandomForestClassifier\n",
    "from sklearn.svm import SVC\n",
    "from sklearn.model_selection import GridSearchCV, KFold\n",
    "from sklearn.cross_validation import train_test_split\n",
    "from sklearn import tree\n",
    "\n",
    "data_filename = 'covtype.csv'\n",
    "df = pd.read_csv(data_filename)\n",
    "\n",
    "#In order to avoid cheating, we split the data into training and testing datasets.\n",
    "train,test = train_test_split(df,test_size=0.2,random_state=999)\n",
    "\n",
    "#create the variable that we will use to train and evaluate our models.\n",
    "train_x = train.loc[:, train.columns != 'Cover_Type']\n",
    "train_y = train['Cover_Type']\n",
    "\n",
    "test_x = test.loc[:, test.columns != 'Cover_Type']\n",
    "test_y = test['Cover_Type']"
   ]
  },
  {
   "cell_type": "code",
   "execution_count": 2,
   "metadata": {},
   "outputs": [
    {
     "data": {
      "text/plain": [
       "Series([], dtype: int64)"
      ]
     },
     "execution_count": 2,
     "metadata": {},
     "output_type": "execute_result"
    }
   ],
   "source": [
    "#we check for missing values. Fortunetely, we do not have any NaNs.\n",
    "df_nas = df.isnull().sum()\n",
    "df_nas = df_nas[df_nas>0]\n",
    "df_nas.sort_values(ascending=False)"
   ]
  },
  {
   "cell_type": "code",
   "execution_count": 28,
   "metadata": {},
   "outputs": [],
   "source": [
    "#We create a dataframe that we will store the results of each model\n",
    "Model_Results = pd.DataFrame()\n",
    "Model_Results['Evaluators'] = ['Accuracy Score','Report']"
   ]
  },
  {
   "cell_type": "markdown",
   "metadata": {},
   "source": [
    "We will evaluate our models via accuracy score.\n",
    "Accuracy score is the the percentage of correctly_predicted_classes.\n",
    "Accuracy has been discused a lot in the Assignment 3, Question 3."
   ]
  },
  {
   "cell_type": "markdown",
   "metadata": {},
   "source": [
    "Furthermore, classification_report is a very nice function to interpret the results of a classification model.\n",
    "\n",
    "Returns:\n",
    "\n",
    "Precision: Out of the predictions of EACH class we identify how many are correctly predicted. Total_Trees_Predicted_Xi/ Total_Correctly_predicted_Xi\n",
    "\n",
    "Recall : Percentage of the trees identified correctly for each class. Total_Correctly_Predicted_Xi / Total_Class_Xi\n",
    "\n",
    "F1-score is a measure of a test's accuracy. It considers both the precision p and the recall r of the test to compute the score: p is the number of correct positive results divided by the number of all positive results\n",
    "\n",
    "More discussion about those measurements have been done on Assignment_3/Question_3"
   ]
  },
  {
   "cell_type": "markdown",
   "metadata": {},
   "source": [
    "1rst mode: DesicionTreeClassifier\n",
    "\n",
    "Simple Explanation:\n",
    "Very similar technique with DesicionTreeRegression (explained on Question1/Assignment4).\n",
    "However, this time you use as split-point critirion Gini impurity or entropy, measuring the information gain."
   ]
  },
  {
   "cell_type": "code",
   "execution_count": 25,
   "metadata": {
    "collapsed": true
   },
   "outputs": [
    {
     "ename": "NameError",
     "evalue": "name 'train_x' is not defined",
     "output_type": "error",
     "traceback": [
      "\u001b[1;31m---------------------------------------------------------------------------\u001b[0m",
      "\u001b[1;31mNameError\u001b[0m                                 Traceback (most recent call last)",
      "\u001b[1;32m<ipython-input-25-567b82d0d660>\u001b[0m in \u001b[0;36m<module>\u001b[1;34m()\u001b[0m\n\u001b[0;32m     10\u001b[0m \u001b[0mclf\u001b[0m \u001b[1;33m=\u001b[0m \u001b[0mGridSearchCV\u001b[0m\u001b[1;33m(\u001b[0m\u001b[0mDecisionTreeClassifier\u001b[0m\u001b[1;33m(\u001b[0m\u001b[0mcriterion\u001b[0m\u001b[1;33m=\u001b[0m\u001b[1;34m'gini'\u001b[0m\u001b[1;33m)\u001b[0m\u001b[1;33m,\u001b[0m \u001b[0mparameters\u001b[0m\u001b[1;33m,\u001b[0m \u001b[0mcv\u001b[0m \u001b[1;33m=\u001b[0m \u001b[0mcv\u001b[0m\u001b[1;33m,\u001b[0m \u001b[0mn_jobs\u001b[0m \u001b[1;33m=\u001b[0m \u001b[1;33m-\u001b[0m\u001b[1;36m1\u001b[0m\u001b[1;33m)\u001b[0m\u001b[1;33m\u001b[0m\u001b[0m\n\u001b[0;32m     11\u001b[0m \u001b[1;33m\u001b[0m\u001b[0m\n\u001b[1;32m---> 12\u001b[1;33m \u001b[0mclf\u001b[0m \u001b[1;33m=\u001b[0m \u001b[0mclf\u001b[0m\u001b[1;33m.\u001b[0m\u001b[0mfit\u001b[0m\u001b[1;33m(\u001b[0m\u001b[0mtrain_x\u001b[0m\u001b[1;33m,\u001b[0m \u001b[0mtrain_y\u001b[0m\u001b[1;33m)\u001b[0m\u001b[1;33m\u001b[0m\u001b[0m\n\u001b[0m\u001b[0;32m     13\u001b[0m \u001b[1;33m\u001b[0m\u001b[0m\n\u001b[0;32m     14\u001b[0m \u001b[0mprint\u001b[0m\u001b[1;33m(\u001b[0m\u001b[0mclf\u001b[0m\u001b[1;33m.\u001b[0m\u001b[0mbest_estimator_\u001b[0m\u001b[1;33m)\u001b[0m\u001b[1;33m\u001b[0m\u001b[0m\n",
      "\u001b[1;31mNameError\u001b[0m: name 'train_x' is not defined"
     ]
    }
   ],
   "source": [
    "#FIRST MODEL DESICIONTREECLASSIFIER\n",
    "#~2min\n",
    "parameters = [\n",
    "    {'max_depth': list(range(5, 15,2))},\n",
    "    {'min_samples_split': [2,3] }\n",
    "]\n",
    "\n",
    "cv = KFold(n_splits=11, shuffle=True, random_state=13)\n",
    "\n",
    "clf = GridSearchCV(DecisionTreeClassifier(criterion='gini'), parameters, cv = cv, n_jobs = -1)\n",
    "\n",
    "clf = clf.fit(train_x, train_y)\n",
    "\n",
    "print(clf.best_estimator_)"
   ]
  },
  {
   "cell_type": "code",
   "execution_count": 5,
   "metadata": {},
   "outputs": [
    {
     "name": "stdout",
     "output_type": "stream",
     "text": [
      "Model: DecisionTreeClassifier\n",
      "Accuracy score:  0.940\n",
      "More Details:\n",
      "             precision    recall  f1-score   support\n",
      "\n",
      "    class 0       0.94      0.94      0.94     42479\n",
      "    class 1       0.95      0.95      0.95     56554\n",
      "    class 2       0.93      0.93      0.93      7148\n",
      "    class 3       0.84      0.83      0.83       559\n",
      "    class 4       0.84      0.85      0.84      1938\n",
      "    class 5       0.87      0.88      0.87      3392\n",
      "    class 6       0.95      0.94      0.95      4133\n",
      "\n",
      "avg / total       0.94      0.94      0.94    116203\n",
      "\n"
     ]
    }
   ],
   "source": [
    "#copy-paste the parameteres from previous cell's output\n",
    "clf = DecisionTreeClassifier(class_weight=None, criterion='gini', max_depth=None,\n",
    "            max_features=None, max_leaf_nodes=None,\n",
    "            min_impurity_split=1e-07, min_samples_leaf=1,\n",
    "            min_samples_split=2, min_weight_fraction_leaf=0.0,\n",
    "            presort=False, random_state=None, splitter='best')\n",
    "#train\n",
    "clf = clf.fit(train_x, train_y)\n",
    "#predict test_y\n",
    "predict = clf.predict(test_x)\n",
    "\n",
    "target_names = ['class 0', 'class 1', 'class 2', 'class 3', 'class 4', 'class 5', 'class 6' ]\n",
    "score = format(accuracy_score(test_y,predict), '.3f')\n",
    "\n",
    "Model_Results['DecisionTreeClassifier'] = score\n",
    "\n",
    "print('Model: DecisionTreeClassifier')\n",
    "print('Accuracy score: ', score)\n",
    "print('More Details:')\n",
    "print(classification_report(test_y, predict, target_names=target_names))"
   ]
  },
  {
   "cell_type": "markdown",
   "metadata": {},
   "source": [
    "2nd model: RandomForestClassifier\n",
    "\n",
    "The mechanism of this model has been explained on Question_1/Assignment_4.\n",
    "The only difference between RandomForestRegressor and Classifier is that in this case the model uses the most frequent class, instead of the average predicted value of the n_estimators(trees)."
   ]
  },
  {
   "cell_type": "code",
   "execution_count": 4,
   "metadata": {
    "scrolled": true
   },
   "outputs": [
    {
     "name": "stdout",
     "output_type": "stream",
     "text": [
      "Fitting 5 folds for each of 24 candidates, totalling 120 fits\n"
     ]
    },
    {
     "name": "stderr",
     "output_type": "stream",
     "text": [
      "[Parallel(n_jobs=-1)]: Done  34 tasks      | elapsed:  1.3min\n",
      "[Parallel(n_jobs=-1)]: Done 120 out of 120 | elapsed:  7.2min finished\n"
     ]
    },
    {
     "name": "stdout",
     "output_type": "stream",
     "text": [
      "RandomForestClassifier(bootstrap=True, class_weight=None, criterion='gini',\n",
      "            max_depth=15, max_features='auto', max_leaf_nodes=None,\n",
      "            min_impurity_split=1e-07, min_samples_leaf=1,\n",
      "            min_samples_split=2, min_weight_fraction_leaf=0.0,\n",
      "            n_estimators=700, n_jobs=1, oob_score=False, random_state=None,\n",
      "            verbose=0, warm_start=False)\n"
     ]
    }
   ],
   "source": [
    "#SECOND MODEL: RANDOMFORESTCLASSIFIER\n",
    "#Because of the big size of the dataframe we tried to GridSearch with a partition of the data and then use the best parameteres to train our RF.\n",
    "#However, the results were much better when we ran a RandomForest with the default parameters and use all the data.\n",
    "\n",
    "#SKIP THIS CELL\n",
    "'''\n",
    "sample_indices = np.random.choice(df.index, 100000, replace = False)\n",
    "df_sample = df.iloc[sample_indices, :]\n",
    "\n",
    "train_sample, test_sample = train_test_split(df_sample,test_size=0.5,random_state=999)\n",
    "#create the variable that we will use to train and evaluate our models.\n",
    "trainS_x = train_sample.loc[:, train_sample.columns != 'Cover_Type']\n",
    "trainS_y = train_sample['Cover_Type']\n",
    "\n",
    "testS_x = test_sample.loc[:, test_sample.columns != 'Cover_Type']\n",
    "testS_y = test_sample['Cover_Type']\n",
    "\n",
    "tuned_parameters = {'n_estimators': [50, 100, 500, 700], \n",
    "                    'max_depth': list(range(5,17,2)),                    \n",
    "                    }\n",
    "\n",
    "#try all the compinations of the parameters above with GridSearchCV function\n",
    "clf = GridSearchCV(RandomForestClassifier(), tuned_parameters, cv=5, \n",
    "           n_jobs=-1, verbose=1)\n",
    "\n",
    "clf.fit(trainS_x, trainS_y)\n",
    "#print the best parameters of the model (our models are evaluated by mean squared error)\n",
    "print(clf.best_estimator_)'''"
   ]
  },
  {
   "cell_type": "code",
   "execution_count": 29,
   "metadata": {},
   "outputs": [
    {
     "name": "stdout",
     "output_type": "stream",
     "text": [
      "Model: RandomForestClassifier\n",
      "Accuracy score:  0.944\n",
      "More Details:\n",
      "             precision    recall  f1-score   support\n",
      "\n",
      "    class 0       0.94      0.95      0.94     42479\n",
      "    class 1       0.95      0.96      0.95     56554\n",
      "    class 2       0.92      0.95      0.94      7148\n",
      "    class 3       0.91      0.84      0.87       559\n",
      "    class 4       0.92      0.73      0.81      1938\n",
      "    class 5       0.92      0.84      0.88      3392\n",
      "    class 6       0.97      0.92      0.95      4133\n",
      "\n",
      "avg / total       0.94      0.94      0.94    116203\n",
      "\n"
     ]
    }
   ],
   "source": [
    "RF = RandomForestClassifier(random_state= 2, n_jobs=-1)\n",
    "\n",
    "RF = RF.fit(train_x, train_y)\n",
    "predict_RF = RF.predict(test_x)\n",
    "\n",
    "target_names = ['class 0', 'class 1', 'class 2', 'class 3', 'class 4', 'class 5', 'class 6' ]\n",
    "score = format(accuracy_score(test_y,predict_RF), '.3f')\n",
    "\n",
    "Model_Results['RandomForestClassifier'] = score\n",
    "\n",
    "print('Model: RandomForestClassifier')\n",
    "print('Accuracy score: ', score)\n",
    "print('More Details:')\n",
    "print(classification_report(test_y, predict_RF, target_names=target_names))"
   ]
  },
  {
   "cell_type": "markdown",
   "metadata": {},
   "source": [
    "Model 3: Support Vector Machines.\n",
    "\n",
    "With this model we achieve greater robustness to invividual observations and better classification of most of the observations.\n",
    "The multiclass support is handled according to a one-vs-one scheme.\n",
    "\n",
    "We select the hyperplane with the maximal margin.\n",
    "Support Vector Machines is a very good algorithm to classify data but it has high computational cost.\n",
    "For the reason described above we have to randomly select only a small prartition of our data to train our model(5k train/test datapoints).\n",
    "\n",
    "The fit time complexity is more than quadratic with the number of samples which makes it hard to scale to dataset with more than a couple of 10000 samples.\n",
    "\n",
    "However, it will take about 5mins to train our model without even do some tuning to the parameteres.\n",
    "\n",
    "Simple Explanation of SVMs\n",
    "We want to separate our observations into two classes.\n",
    "We try to find the best hyperplane.\n",
    "We compute the perpendicular distance from each observation to the candidate hyperplane. The smallest of these distances is called the margin.We select the hyperplane with the maximal margin.\n",
    "To avoid overfit, instead of trying to find the biggest margin, SVM allows some observations to lie on the wrong side of the margin.\n",
    "If we have more than two classes, we can work with the strategy One-versus-One Classification."
   ]
  },
  {
   "cell_type": "code",
   "execution_count": 10,
   "metadata": {},
   "outputs": [],
   "source": [
    "#THIRD MODEL: SUPPORT VECTOR MACHINES\n",
    "#we create new training and testing dataframes with randomly selected rows \n",
    "sample_indices = np.random.choice(df.index, 20000, replace = False)\n",
    "df_sample = df.iloc[sample_indices, :]\n",
    "\n",
    "train_sample, test_sample = train_test_split(df_sample,test_size=0.5,random_state=999)\n",
    "#create the variables that we will use to train and evaluate our models.\n",
    "trainS_x = train_sample.loc[:, train_sample.columns != 'Cover_Type']\n",
    "trainS_y = train_sample['Cover_Type']\n",
    "\n",
    "testS_x = test_sample.loc[:, test_sample.columns != 'Cover_Type']\n",
    "testS_y = test_sample['Cover_Type']"
   ]
  },
  {
   "cell_type": "code",
   "execution_count": 11,
   "metadata": {},
   "outputs": [
    {
     "name": "stdout",
     "output_type": "stream",
     "text": [
      "Model: SupportVectorMachines\n",
      "Accuracy score:  0.520\n",
      "More Details:\n",
      "             precision    recall  f1-score   support\n",
      "\n",
      "    class 0       0.96      0.05      0.10      3586\n",
      "    class 1       0.51      1.00      0.68      5012\n",
      "    class 2       1.00      0.00      0.01       593\n",
      "    class 3       0.00      0.00      0.00        43\n",
      "    class 4       1.00      0.01      0.01       168\n",
      "    class 5       1.00      0.01      0.01       277\n",
      "    class 6       1.00      0.01      0.01       321\n",
      "\n",
      "avg / total       0.74      0.52      0.38     10000\n",
      "\n"
     ]
    },
    {
     "name": "stderr",
     "output_type": "stream",
     "text": [
      "C:\\Users\\User\\Anaconda3\\lib\\site-packages\\sklearn\\metrics\\classification.py:1113: UndefinedMetricWarning: Precision and F-score are ill-defined and being set to 0.0 in labels with no predicted samples.\n",
      "  'precision', 'predicted', average, warn_for)\n"
     ]
    }
   ],
   "source": [
    "#~3min\n",
    "svm_model = SVC(gamma=0.001, C=100., random_state = 0)\n",
    "svm_model = svm_model.fit(trainS_x, trainS_y)\n",
    "predict = svm_model.predict(testS_x)\n",
    "\n",
    "target_names = ['class 0', 'class 1', 'class 2', 'class 3', 'class 4', 'class 5', 'class 6' ]\n",
    "score = format(accuracy_score(testS_y,predict), '.3f')\n",
    "\n",
    "Model_Results['SupportVectorMachines'] = score\n",
    "\n",
    "print('Model: SupportVectorMachines')\n",
    "print('Accuracy score: ', score)\n",
    "print('More Details:')\n",
    "print(classification_report(testS_y, predict, target_names=target_names))"
   ]
  },
  {
   "cell_type": "markdown",
   "metadata": {},
   "source": [
    "Results:\n",
    "In our case we have really bad accuracy_score with the SVC model.\n",
    "This happens for two reasons.\n",
    "1. We use only a small proportion of our data to train our model and we lose a lot of usefull information.\n",
    "2. This model is really slow to train so we cannot apply tuning techniques to find the best parameters\n",
    "All in all, SVM is not a good practice when you have a big dataset.\n"
   ]
  },
  {
   "cell_type": "markdown",
   "metadata": {},
   "source": [
    "Now we can compare the accuracy_scores of each model."
   ]
  },
  {
   "cell_type": "code",
   "execution_count": 30,
   "metadata": {},
   "outputs": [
    {
     "data": {
      "text/html": [
       "<div>\n",
       "<style>\n",
       "    .dataframe thead tr:only-child th {\n",
       "        text-align: right;\n",
       "    }\n",
       "\n",
       "    .dataframe thead th {\n",
       "        text-align: left;\n",
       "    }\n",
       "\n",
       "    .dataframe tbody tr th {\n",
       "        vertical-align: top;\n",
       "    }\n",
       "</style>\n",
       "<table border=\"1\" class=\"dataframe\">\n",
       "  <thead>\n",
       "    <tr style=\"text-align: right;\">\n",
       "      <th></th>\n",
       "      <th>Evaluators</th>\n",
       "      <th>RandomForestClassifier</th>\n",
       "    </tr>\n",
       "  </thead>\n",
       "  <tbody>\n",
       "    <tr>\n",
       "      <th>0</th>\n",
       "      <td>Accuracy Score</td>\n",
       "      <td>0.944</td>\n",
       "    </tr>\n",
       "    <tr>\n",
       "      <th>1</th>\n",
       "      <td>Report</td>\n",
       "      <td>0.944</td>\n",
       "    </tr>\n",
       "  </tbody>\n",
       "</table>\n",
       "</div>"
      ],
      "text/plain": [
       "       Evaluators RandomForestClassifier\n",
       "0  Accuracy Score                  0.944\n",
       "1          Report                  0.944"
      ]
     },
     "execution_count": 30,
     "metadata": {},
     "output_type": "execute_result"
    }
   ],
   "source": [
    "Model_Results"
   ]
  },
  {
   "cell_type": "markdown",
   "metadata": {},
   "source": [
    "As we can see from the output from the cell above, RandoForestClassifier has the best score.\n",
    "We also showed more details about each class' accuracy.(precision,recall,f1-score etc)\n",
    "\n",
    "RandomForest Details:\n",
    "             precision    recall  f1-score   support\n",
    "\n",
    "    class 0       0.94      0.95      0.94     42479\n",
    "    class 1       0.95      0.96      0.95     56554\n",
    "    class 2       0.92      0.95      0.94      7148\n",
    "    class 3       0.91      0.84      0.87       559\n",
    "    class 4       0.92      0.73      0.81      1938\n",
    "    class 5       0.92      0.84      0.88      3392\n",
    "    class 6       0.97      0.92      0.95      4133\n",
    "\n",
    "avg / total       0.94      0.94      0.94    116203\n",
    "\n",
    "From the table above we can see that the most difficult to predict was class 4 (or Tree number 5 : 'Aspen')."
   ]
  },
  {
   "cell_type": "markdown",
   "metadata": {},
   "source": [
    "To find which pair of cover types was hardest to distinguish we calculated for every pair of classes the misspredicted rows as the other type divided by the total misspredicted rows of these types.\n",
    "\n",
    "We need a percentage and not just a count because the dataframe is imbalanced.\n",
    "\n",
    "More specifically:\n",
    "\n",
    "count(type1_wrongly_predicted_as_type2) + count(type2_wrongly_predicted_as_type1) / total_number_of_misspredicted_type1_and_type2"
   ]
  },
  {
   "cell_type": "code",
   "execution_count": 13,
   "metadata": {},
   "outputs": [
    {
     "name": "stdout",
     "output_type": "stream",
     "text": [
      "The hardest to distinguish pair with RandomForestClassifier is: 1-2 (Spruce/Fir and Lodgepole Pine)\n"
     ]
    }
   ],
   "source": [
    "#create a dataframe with the predicted and actual classes of the RandomForestClassifier(our best model)\n",
    "df_forest=pd.DataFrame({'actual': test_y,\n",
    "                 'predict': predict_RF}) \n",
    "\n",
    "#create a dict to store all the results between pairs\n",
    "pairs_missdistinguished_percent = dict()\n",
    "\n",
    "def percentage_of_missdistinguished_pair(df, type1, type2):\n",
    "    #count the number of class2 predicted as class1\n",
    "    t1_as_t2 = len(df.loc[(df['predict'] == type1) & (df['actual'] == type2), :]) \n",
    "    #count the number of class1 predicted as class2\n",
    "    t2_as_t1 = len(df.loc[(df['predict'] == type2) & (df['actual'] == type1), :])\n",
    "    #total number of both types\n",
    "    total_misspred_t1 = len(df.loc[(df['actual'] == type1) & (df['predict'] != type1)]) \n",
    "    total_misspred_t2 = len(df.loc[(df['actual'] == type2) & (df['predict'] != type2)]) \n",
    "    #calculate the percentage of missdistinguished types between this spesific pair.\n",
    "    percentage_of_failure = (t1_as_t2 + t2_as_t1)/(total_misspred_t1 + total_misspred_t2)\n",
    "    return percentage_of_failure\n",
    "    \n",
    "#ALL THE PAIRS\n",
    "pairs = [(1,2),(1,3),(1,4),(1,5),(1,6),(1,7),(2,3),(2,4),(2,5),(2,6),(2,7),(3,4),(3,5),(3,6),(3,7),(4,5),(4,6),(4,7),(5,6),(5,7),(6,7)]\n",
    "#run the function for every pair\n",
    "for pair in pairs:\n",
    "    #store the results into the dictionary that we created above\n",
    "    type_pair = str(pair[0]) + '-'+ str(pair[1])\n",
    "    pairs_missdistinguished_percent[type_pair] = percentage_of_missdistinguished_pair(df_forest,pair[0],pair[1])\n",
    "\n",
    "print('The hardest to distinguish pair with RandomForestClassifier is: ' + max(pairs_missdistinguished_percent,key=pairs_missdistinguished_percent.get) + ' (Spruce/Fir and Lodgepole Pine)')"
   ]
  },
  {
   "cell_type": "code",
   "execution_count": 31,
   "metadata": {},
   "outputs": [
    {
     "name": "stdout",
     "output_type": "stream",
     "text": [
      "1. feature 0 Elevation (0.229259)\n",
      "2. feature 5 Horizontal_Distance_To_Roadways (0.115043)\n",
      "3. feature 9 Horizontal_Distance_To_Fire_Points (0.114200)\n",
      "4. feature 3 Horizontal_Distance_To_Hydrology (0.061379)\n",
      "5. feature 4 Vertical_Distance_To_Hydrology (0.057739)\n",
      "6. feature 1 Aspect (0.047952)\n",
      "7. feature 8 Hillshade_3pm (0.040994)\n",
      "8. feature 7 Hillshade_Noon (0.040496)\n",
      "9. feature 6 Hillshade_9am (0.039773)\n",
      "10. feature 13 Wilderness_Area4 (0.038369)\n",
      "11. feature 2 Slope (0.033225)\n",
      "12. feature 35 Soil_Type22 (0.016159)\n",
      "13. feature 17 Soil_Type4 (0.014934)\n",
      "14. feature 25 Soil_Type12 (0.012245)\n",
      "15. feature 36 Soil_Type23 (0.012050)\n",
      "16. feature 23 Soil_Type10 (0.011607)\n",
      "17. feature 52 Soil_Type39 (0.011203)\n",
      "18. feature 15 Soil_Type2 (0.010222)\n",
      "19. feature 51 Soil_Type38 (0.009885)\n",
      "20. feature 12 Wilderness_Area3 (0.009085)\n",
      "21. feature 10 Wilderness_Area1 (0.008938)\n",
      "22. feature 11 Wilderness_Area2 (0.007310)\n",
      "23. feature 53 Soil_Type40 (0.006869)\n",
      "24. feature 45 Soil_Type32 (0.004983)\n",
      "25. feature 37 Soil_Type24 (0.004600)\n",
      "26. feature 46 Soil_Type33 (0.004569)\n",
      "27. feature 42 Soil_Type29 (0.004427)\n",
      "28. feature 19 Soil_Type6 (0.004138)\n",
      "29. feature 44 Soil_Type31 (0.003823)\n",
      "30. feature 26 Soil_Type13 (0.003523)\n",
      "31. feature 43 Soil_Type30 (0.003145)\n",
      "32. feature 24 Soil_Type11 (0.002744)\n",
      "33. feature 16 Soil_Type3 (0.002644)\n",
      "34. feature 33 Soil_Type20 (0.002003)\n",
      "35. feature 48 Soil_Type35 (0.001791)\n",
      "36. feature 30 Soil_Type17 (0.001732)\n",
      "37. feature 32 Soil_Type19 (0.001200)\n",
      "38. feature 34 Soil_Type21 (0.000879)\n",
      "39. feature 29 Soil_Type16 (0.000818)\n",
      "40. feature 18 Soil_Type5 (0.000754)\n",
      "41. feature 40 Soil_Type27 (0.000523)\n",
      "42. feature 47 Soil_Type34 (0.000496)\n",
      "43. feature 50 Soil_Type37 (0.000415)\n",
      "44. feature 14 Soil_Type1 (0.000411)\n",
      "45. feature 27 Soil_Type14 (0.000405)\n",
      "46. feature 39 Soil_Type26 (0.000287)\n",
      "47. feature 41 Soil_Type28 (0.000196)\n",
      "48. feature 31 Soil_Type18 (0.000157)\n",
      "49. feature 22 Soil_Type9 (0.000142)\n",
      "50. feature 38 Soil_Type25 (0.000113)\n",
      "51. feature 49 Soil_Type36 (0.000093)\n",
      "52. feature 21 Soil_Type8 (0.000030)\n",
      "53. feature 20 Soil_Type7 (0.000018)\n",
      "54. feature 28 Soil_Type15 (0.000006)\n"
     ]
    }
   ],
   "source": [
    "#Here we will order the features according to their importance for the RandomForest model.\n",
    "X = train_x\n",
    "Y = train_y\n",
    "\n",
    "importances = RF.feature_importances_\n",
    "\n",
    "std = np.std([tree.feature_importances_ for tree in RF.estimators_],\n",
    "             axis=0)\n",
    "\n",
    "indices = np.argsort(importances)[::-1]\n",
    "\n",
    "for f in range(X.shape[1]):\n",
    "    print(\"%d. feature %d %s (%f)\" % (f + 1, indices[f], train_x.columns[indices[f]], importances[indices[f]]))"
   ]
  },
  {
   "cell_type": "code",
   "execution_count": 15,
   "metadata": {},
   "outputs": [
    {
     "data": {
      "text/plain": [
       "(-1, 54)"
      ]
     },
     "execution_count": 15,
     "metadata": {},
     "output_type": "execute_result"
    },
    {
     "data": {
      "image/png": "[encoded data removed]",
      "text/plain": [
       "<matplotlib.figure.Figure at 0x20f948a0a90>"
      ]
     },
     "metadata": {},
     "output_type": "display_data"
    }
   ],
   "source": [
    "# Plot the feature importances of the forest\n",
    "plt.figure(figsize=(12, 10))\n",
    "plt.title(\"Feature importances for RandomForestClassifier\")\n",
    "plt.bar(range(X.shape[1]), importances[indices],\n",
    "       color=\"r\", yerr=std[indices], align=\"center\")\n",
    "plt.xticks(range(X.shape[1]), indices)\n",
    "plt.xlim([-1, X.shape[1]])"
   ]
  },
  {
   "cell_type": "markdown",
   "metadata": {},
   "source": [
    "Features selection:\n",
    "\n",
    "The model with the best score(RandomForestClassifier) is using all the variables to predict the cover type.\n",
    "This is quite normal because even if we have a max depth on this model, RandomForest is selecting for each estimator(DecTree) a number m of random predictors(features) as have been explained(Question1/Assign4).\n",
    "\n",
    "We can prove that on the next cell:"
   ]
  },
  {
   "cell_type": "code",
   "execution_count": 16,
   "metadata": {},
   "outputs": [
    {
     "name": "stdout",
     "output_type": "stream",
     "text": [
      "RandomForestClassifier uses all the features:  True\n"
     ]
    }
   ],
   "source": [
    "#model.feature_importances_ get the importance for every feature that have been used even if that value is too small.\n",
    "print('RandomForestClassifier uses all the features: ',len(train_x.columns) == len(RF.feature_importances_))"
   ]
  }
 ],
 "metadata": {
  "kernelspec": {
   "display_name": "Python 3",
   "language": "python",
   "name": "python3"
  },
  "language_info": {
   "codemirror_mode": {
    "name": "ipython",
    "version": 3
   },
   "file_extension": ".py",
   "mimetype": "text/x-python",
   "name": "python",
   "nbconvert_exporter": "python",
   "pygments_lexer": "ipython3",
   "version": "3.5.5"
  }
 },
 "nbformat": 4,
 "nbformat_minor": 2
}
