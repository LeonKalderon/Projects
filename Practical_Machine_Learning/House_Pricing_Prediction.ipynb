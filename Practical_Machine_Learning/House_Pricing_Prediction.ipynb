{
 "cells": [
  {
   "cell_type": "markdown",
   "metadata": {},
   "source": [
    "APROXIMATE RUN TIME OF THE WHOLE QUESTION IS ABOUT 30 MINUTES( specs: i7 6700HQ, 16gb DDR4)\n",
    "\n",
    "However, some cells with GridSearch can be skipped but NOT the cells that train our models!"
   ]
  },
  {
   "cell_type": "code",
   "execution_count": 1,
   "metadata": {},
   "outputs": [],
   "source": [
    "import pandas as pd\n",
    "import numpy as np\n",
    "import matplotlib as plt\n",
    "import matplotlib.pyplot as  plt\n",
    "from sklearn.model_selection import cross_val_score\n",
    "from sklearn.ensemble import AdaBoostRegressor\n",
    "from sklearn.ensemble import RandomForestRegressor\n",
    "from sklearn.metrics import make_scorer, mean_squared_error, mean_absolute_error\n",
    "from sklearn.tree import DecisionTreeRegressor\n",
    "from sklearn import linear_model\n",
    "from sklearn.ensemble import BaggingRegressor\n",
    "from sklearn.model_selection import GridSearchCV, KFold\n",
    "from scipy.stats import sem\n",
    "#ignore warnings about module depreciation\n",
    "import warnings\n",
    "warnings.filterwarnings(\"ignore\") \n",
    "%matplotlib inline\n",
    "\n",
    "data_filename_train = 'train.csv'\n",
    "data_filename_test = 'test.csv'\n",
    "data_filename_submission = 'sample_submission.csv'\n",
    "\n",
    "df_train = pd.read_csv(data_filename_train)\n",
    "df_test = pd.read_csv(data_filename_test)\n",
    "df_submission = pd.read_csv(data_filename_submission)\n",
    "\n",
    "#merge submission with test so if we drop some rows later the dfs stay matched\n",
    "df_test = df_test.merge(df_submission, left_on ='Id' , right_on = 'Id' , how = 'inner')"
   ]
  },
  {
   "cell_type": "markdown",
   "metadata": {},
   "source": [
    "Handle missing values:\n",
    "\n",
    "We will merge train and test DFs so we can handle all missing values at once.\n",
    "\n",
    "Then we will split the df to categorical and quantitive variables to proccess them correspondingly. \n",
    "\n",
    "At the end, we will split the df to train and test dataframes so we can run the models properly."
   ]
  },
  {
   "cell_type": "code",
   "execution_count": 2,
   "metadata": {},
   "outputs": [],
   "source": [
    "#merge train&test\n",
    "df = df_train.append(df_test, ignore_index=True)"
   ]
  },
  {
   "cell_type": "code",
   "execution_count": 3,
   "metadata": {},
   "outputs": [
    {
     "name": "stdout",
     "output_type": "stream",
     "text": [
      "0\n"
     ]
    }
   ],
   "source": [
    "#check for duples for Id\n",
    "idsUnique = len(set(df['Id']))\n",
    "idsTotal = df.shape[0]\n",
    "idsdupe = idsTotal - idsUnique\n",
    "print(idsdupe)"
   ]
  },
  {
   "cell_type": "code",
   "execution_count": 4,
   "metadata": {
    "collapsed": true
   },
   "outputs": [
    {
     "data": {
      "text/plain": [
       "PoolQC          2909\n",
       "MiscFeature     2814\n",
       "Alley           2721\n",
       "Fence           2348\n",
       "FireplaceQu     1420\n",
       "LotFrontage      486\n",
       "GarageFinish     159\n",
       "GarageYrBlt      159\n",
       "GarageQual       159\n",
       "GarageCond       159\n",
       "GarageType       157\n",
       "BsmtExposure      82\n",
       "BsmtCond          82\n",
       "BsmtQual          81\n",
       "BsmtFinType2      80\n",
       "BsmtFinType1      79\n",
       "MasVnrType        24\n",
       "MasVnrArea        23\n",
       "MSZoning           4\n",
       "BsmtFullBath       2\n",
       "BsmtHalfBath       2\n",
       "Utilities          2\n",
       "Functional         2\n",
       "Exterior2nd        1\n",
       "Exterior1st        1\n",
       "SaleType           1\n",
       "BsmtFinSF1         1\n",
       "BsmtFinSF2         1\n",
       "BsmtUnfSF          1\n",
       "Electrical         1\n",
       "KitchenQual        1\n",
       "GarageCars         1\n",
       "GarageArea         1\n",
       "TotalBsmtSF        1\n",
       "dtype: int64"
      ]
     },
     "execution_count": 4,
     "metadata": {},
     "output_type": "execute_result"
    }
   ],
   "source": [
    "#Count missing values per column\n",
    "df_nas = df.isnull().sum()\n",
    "df_nas = df_nas[df_nas>0]\n",
    "df_nas.sort_values(ascending=False)"
   ]
  },
  {
   "cell_type": "markdown",
   "metadata": {},
   "source": [
    "Simple Option: Drop Columns with Missing Values\n",
    "\n",
    "Maybe this is not the best option because we will probably loose some usefull information.\n",
    "On the other hand, these columns are highly correlated with other columns of the dataset so maybe this is not a big problem.\n",
    "\n",
    "E.g. we will drop column PoolQuality but we still have information about PoolArea, (the same applies for the Garage and the other variables we drop).\n",
    "However, for the last variables that have only a few rows with NaNs, we choose to drop those rows instead of the whole columns.\n",
    "\n",
    "Another approach to this problem is Imputation. However, in most features this is not a good practice.\n",
    "If we replace the NaNs with the most frequent class for categorical variables we will create false information.\n",
    "For example, PoolQC(Pool quality) includes NaNs on the houses that do not have a pool so if we add the mode(most frequent class) on these NaNs is like we add a pool on those houses."
   ]
  },
  {
   "cell_type": "code",
   "execution_count": 5,
   "metadata": {},
   "outputs": [],
   "source": [
    "#Handle missing values\n",
    "exclude = ['PoolQC', 'MiscFeature', 'Alley', 'Fence', 'FireplaceQu', 'LotFrontage',\n",
    "       'GarageYrBlt', 'GarageType', 'GarageFinish', 'GarageQual', 'GarageCond',\n",
    "       'BsmtFinType2', 'BsmtExposure', 'BsmtFinType1', 'BsmtCond', 'BsmtQual']\n",
    "\n",
    "#Drop feutures with NaNs > 25\n",
    "df = df.drop(exclude, axis=1, errors = 'ignore')\n",
    "#Drop rows(We will drop 20 rows and we will avoid dropping 18columns) \n",
    "df = df.dropna(axis = 0, how='any')"
   ]
  },
  {
   "cell_type": "code",
   "execution_count": 6,
   "metadata": {},
   "outputs": [],
   "source": [
    "#Set Id column as index because we don't want this feature in our analysis.\n",
    "#Id is just an increment feature that shouldn't influence our models.\n",
    "df = df.set_index('Id')"
   ]
  },
  {
   "cell_type": "code",
   "execution_count": 7,
   "metadata": {},
   "outputs": [],
   "source": [
    "#split the df to categorical and continues features\n",
    "df_cat = df.select_dtypes(include=['object'])\n",
    "df_cont = df.select_dtypes(exclude=['object'])\n",
    "\n",
    "#make numeric the continous feutures\n",
    "df_cont = df_cont.apply(pd.to_numeric, errors='ignore')"
   ]
  },
  {
   "cell_type": "code",
   "execution_count": 8,
   "metadata": {},
   "outputs": [],
   "source": [
    "#create dummies for categorical variables\n",
    "df_cat = pd.get_dummies(df_cat)"
   ]
  },
  {
   "cell_type": "markdown",
   "metadata": {},
   "source": [
    "Now we will merge Numeric and Categorical dataframes.\n",
    "\n",
    "Then we will SPLIT to Train and Test DataFrames."
   ]
  },
  {
   "cell_type": "code",
   "execution_count": 9,
   "metadata": {},
   "outputs": [],
   "source": [
    "df_new = df_cont.join(df_cat)\n",
    "\n",
    "# -8 because we dropped 8 rows from the training dataframe\n",
    "df_train = df_new.iloc[:len(df_train) - 8]\n",
    "df_test =  df_new.iloc[len(df_train) + 8:]\n",
    "\n",
    "#create our model variables\n",
    "train_x = df_train.loc[:, df_train.columns != 'SalePrice']\n",
    "#target variable\n",
    "train_y = df_train['SalePrice']\n",
    "\n",
    "#testing df\n",
    "test_x = df_test.loc[:, df_test.columns != 'SalePrice']\n",
    "#true SalePrices to evaluate our model\n",
    "test_y = df_test['SalePrice']"
   ]
  },
  {
   "cell_type": "markdown",
   "metadata": {},
   "source": [
    "MODELS EVALUATION\n",
    "\n",
    "There are many ways to evaluate each model. In our example we will evaluate our models with the mean(cross_val_score).In that way, we can score our model in many different pseudo-test sets and find a general score for our model.\n",
    "\n",
    "More specificaly, if we just evaluated our model from the mean absolute error and the mean square error of the predicted prices vs the true prices of the test dataframe we probably get better MSE/MAE on a model that happens by chance to fit better on the test dataframe.\n",
    "\n",
    "Also, in a real world ML cases we wont have the results of the test dataframe so we have to evaluate our models without knowing the true results."
   ]
  },
  {
   "cell_type": "markdown",
   "metadata": {},
   "source": [
    "1st Model: DecisionTree(Regressor, because we want to predict a continues variable) \n",
    "\n",
    "Simple explanation:\n",
    "We split our data iteratively on the split point with the greatest variance reduction.\n",
    "Because we have many features the decision tree will try all points of all the features pick and finally will choose the best split-point(with the greatest variance reduction).\n",
    "The best split point is determined by the mean square error(mse).\n",
    "It is challenging to find the optimal number of splits. If you split in a big depth you may end up to overfit\n",
    "the model on your training data and end up with a worse prediction on your test data."
   ]
  },
  {
   "cell_type": "code",
   "execution_count": 10,
   "metadata": {},
   "outputs": [],
   "source": [
    "#create a dataframe to collect model's evaluators so we can compare them at the end.\n",
    "Models_Results = pd.DataFrame()\n",
    "Models_Results['Evaluators'] = ['mean_cv_score', 'stand.error_mean_score','MAE_test', 'MSE_test']"
   ]
  },
  {
   "cell_type": "code",
   "execution_count": 11,
   "metadata": {},
   "outputs": [
    {
     "name": "stdout",
     "output_type": "stream",
     "text": [
      "DecisionTreeRegressor(criterion='mse', max_depth=None, max_features=None,\n",
      "           max_leaf_nodes=None, min_impurity_split=1e-07,\n",
      "           min_samples_leaf=1, min_samples_split=2,\n",
      "           min_weight_fraction_leaf=0.0, presort=False, random_state=None,\n",
      "           splitter='best')\n"
     ]
    }
   ],
   "source": [
    "#FIRST MODEL\n",
    "#we create a list of parameters just to show the practice of how tuning works.\n",
    "parameters = [\n",
    "    {'max_depth': list(range(5, 15))},\n",
    "    {'min_samples_split': [2,3,4]}\n",
    "    ]\n",
    "\n",
    "cv = KFold(n_splits=11, shuffle=True, random_state=13)\n",
    "\n",
    "clf = GridSearchCV(DecisionTreeRegressor(criterion='mse'), parameters, cv = cv)\n",
    "\n",
    "clf = clf.fit(test_x, test_y)\n",
    "#clf.get_params() this is a nice function to see all the parameters of your model.\n",
    "print(clf.best_estimator_)"
   ]
  },
  {
   "cell_type": "code",
   "execution_count": 12,
   "metadata": {},
   "outputs": [
    {
     "name": "stdout",
     "output_type": "stream",
     "text": [
      "DecisionTreeRegressor Scores:\n",
      "Mean crossvalidation score : 0.766\n",
      "Standard error of crossval mean 0.028\n",
      "Mean Absolute Error : 57271\n",
      "Mean Square Error : 6045681432\n"
     ]
    }
   ],
   "source": [
    "#we copy-pasted the best_estimator_ parameters from the cell above. \n",
    "price_tree = DecisionTreeRegressor(criterion='mse', max_depth=13, max_features=None,\n",
    "               max_leaf_nodes=None, min_impurity_split=1e-07,\n",
    "               min_samples_leaf=1, min_samples_split=2,\n",
    "               min_weight_fraction_leaf=0.0, presort=False, random_state=None,\n",
    "               splitter='best')\n",
    "\n",
    "#train our model\n",
    "price_tree.fit(train_x, train_y)\n",
    "\n",
    "#predict prices from the test data\n",
    "predicted_prices = price_tree.predict(test_x)\n",
    "\n",
    "#evaluate our model from cross_val_score (have been explained earlier why we use cvs)\n",
    "scores = cross_val_score(price_tree, train_x, train_y, cv=cv)\n",
    "mean_score = format(np.mean(scores), '.3f')\n",
    "sem_score = format(sem(scores), '.02')\n",
    "\n",
    "#calculate mse and msa for the predicted prices\n",
    "mae = format(mean_absolute_error(test_y, predicted_prices), '.0f')\n",
    "mse = format(mean_squared_error(test_y, predicted_prices), '.0f') \n",
    "\n",
    "#store our results in the Models_Results so we can compare all models at the end.\n",
    "Models_Results['DecisionTree'] = [mean_score, sem_score, mae, mse]\n",
    "print('DecisionTreeRegressor Scores:')\n",
    "print('Mean crossvalidation score :', mean_score)\n",
    "print('Standard error of crossval mean', sem_score)\n",
    "print('Mean Absolute Error :' , mae)\n",
    "print('Mean Square Error :' , mse)"
   ]
  },
  {
   "cell_type": "code",
   "execution_count": 13,
   "metadata": {},
   "outputs": [
    {
     "data": {
      "image/png": "[encoded data removed]",
      "text/plain": [
       "<matplotlib.figure.Figure at 0x26d17ab85f8>"
      ]
     },
     "metadata": {},
     "output_type": "display_data"
    }
   ],
   "source": [
    "#This is a plot that we can visualise our predicted results versus the actual prices.\n",
    "#It is obvious that our model needs a lot of improvement to become a good model.\n",
    "#Even though, it is obvious that our results have some sense.\n",
    "plt.figure(figsize=(10, 5))\n",
    "plt.scatter(test_y, predicted_prices, s=20)\n",
    "plt.title('Predicted vs. Actual')\n",
    "plt.xlabel('Actual Sale Price')\n",
    "plt.ylabel('Predicted Sale Price')\n",
    "plt.plot([min(test_y), max(test_y)], [min(test_y), max(test_y)])\n",
    "plt.tight_layout()"
   ]
  },
  {
   "cell_type": "markdown",
   "metadata": {},
   "source": [
    "2nd Model: Bagging with DecisionTrees\n",
    "\n",
    "A nice technique to reduce bias of our model is BAGGING.\n",
    "\n",
    "The Bagging technique is quite simple. Construct  many regression trees from bootstrapped training sets, and average the resulting predictions.\n",
    "\n",
    "Boostrap is a technique that you take repeated samples from a (single) training dataset. "
   ]
  },
  {
   "cell_type": "code",
   "execution_count": 14,
   "metadata": {},
   "outputs": [
    {
     "name": "stdout",
     "output_type": "stream",
     "text": [
      "Bagging with DecisionsTrees Scores:\n",
      "Mean crossvalidation score : 0.854\n",
      "Stand.err of the mean of the scores : 0.022\n",
      "Mean Absolute Error : 53665\n",
      "Mean Squared Error : 4965225269\n"
     ]
    }
   ],
   "source": [
    "#SECOND MODEL: BAGGING DECISIONTREES\n",
    "#create a simple DecisionTree\n",
    "simple_tree = DecisionTreeRegressor(random_state=0)\n",
    "\n",
    "#n_estimators specifies how many base estimators(trees) will be used in the ensemble.\n",
    "#We could also DridSearch on this parameter to find the optimal parameters.\n",
    "#n_jobs indicates how proccessors run in parallel. If n_jobs=-1 we'll have as many jobs as processors in parallel.\n",
    "bagging_price_tree = BaggingRegressor(simple_tree, n_estimators=50, n_jobs=-1, random_state = 0)\n",
    "bagging_price_tree.fit(train_x, train_y)\n",
    "predicted_prices = bagging_price_tree.predict(test_x)\n",
    "\n",
    "scores = cross_val_score(bagging_price_tree, train_x, train_y, cv=cv)\n",
    "mean_score = format(np.mean(scores), '.3f')\n",
    "sem_score = format(sem(scores), '.03f')\n",
    "mae = format(mean_absolute_error(test_y, predicted_prices), '.0f')\n",
    "mse = format(mean_squared_error(test_y, predicted_prices), '.0f') \n",
    "\n",
    "Models_Results['BaggingTrees'] = [mean_score, sem_score,mae,mse]\n",
    "print('Bagging with DecisionsTrees Scores:')\n",
    "print('Mean crossvalidation score :', mean_score)\n",
    "print('Stand.err of the mean of the scores :', sem_score)\n",
    "print('Mean Absolute Error :', mae)\n",
    "print('Mean Squared Error :', mse)"
   ]
  },
  {
   "cell_type": "markdown",
   "metadata": {},
   "source": [
    "3rd Random Forest:\n",
    "\n",
    "Simple explanation\n",
    "RandomForest is an improvement of the Bagged trees. As in bagging we build a number of decision trees with bootstrapped training samples, in this case we do the same process but each tree uses only a random sample of m  predictors(features). In this way we can decorrelate the trees. \n",
    "\n",
    "With bagging if there are very strong predictors in the data set, all the trees will use these predictors on their upper splits. Therefore, all the bagged trees will look quite similar and the predictions given by the individual trees will be highly correlated."
   ]
  },
  {
   "cell_type": "code",
   "execution_count": 15,
   "metadata": {},
   "outputs": [
    {
     "name": "stdout",
     "output_type": "stream",
     "text": [
      "Fitting 5 folds for each of 112 candidates, totalling 560 fits\n"
     ]
    },
    {
     "name": "stderr",
     "output_type": "stream",
     "text": [
      "[Parallel(n_jobs=-1)]: Done  34 tasks      | elapsed:   25.1s\n",
      "[Parallel(n_jobs=-1)]: Done 184 tasks      | elapsed:  2.2min\n",
      "[Parallel(n_jobs=-1)]: Done 434 tasks      | elapsed:  6.5min\n",
      "[Parallel(n_jobs=-1)]: Done 560 out of 560 | elapsed:  9.2min finished\n"
     ]
    },
    {
     "name": "stdout",
     "output_type": "stream",
     "text": [
      "RandomForestRegressor(bootstrap=True, criterion='mse', max_depth=11,\n",
      "           max_features='auto', max_leaf_nodes=None,\n",
      "           min_impurity_split=1e-07, min_samples_leaf=1,\n",
      "           min_samples_split=2, min_weight_fraction_leaf=0.0,\n",
      "           n_estimators=100, n_jobs=1, oob_score=False, random_state=None,\n",
      "           verbose=0, warm_start=False)\n"
     ]
    }
   ],
   "source": [
    "#THIRD MODEL: RandomForest (This task takes approximately ~10min, at my PC but you can SKIP IT)\n",
    "#In order to present how tuning works we implement a variety of parameters but in a short range due to the computer power limitations. \n",
    "#Set the parameters\n",
    "tuned_parameters = {'n_estimators': [50, 100, 500, 700], \n",
    "                    'max_depth': list(range(5,12)), \n",
    "                    'min_samples_split': [2, 3],\n",
    "                    'oob_score': [True,False]}\n",
    "\n",
    "#try all the combinations of the parameters above with GridSearchCV function\n",
    "clf = GridSearchCV(RandomForestRegressor(), tuned_parameters, cv=5, \n",
    "           n_jobs=-1, verbose=1)\n",
    "\n",
    "clf.fit(train_x, train_y)\n",
    "print(clf.best_estimator_)"
   ]
  },
  {
   "cell_type": "code",
   "execution_count": 16,
   "metadata": {},
   "outputs": [
    {
     "name": "stdout",
     "output_type": "stream",
     "text": [
      "RandomForest Scores:\n",
      "Mean cross-validation score : 0.854\n",
      "Stand.err of the mean of the scores : 0.022\n",
      "Mean Absolute Error : 53633\n",
      "Mean Square Error : 4988233414\n"
     ]
    }
   ],
   "source": [
    "#we take the RF model with the best parameters from the previous cell and we paste it here to create our final model and predict the SalePrices.\n",
    "RF_model = RandomForestRegressor(bootstrap=True, criterion='mse', max_depth=11,\n",
    "           max_features='auto', max_leaf_nodes=None,\n",
    "           min_impurity_split=1e-07, min_samples_leaf=1,\n",
    "           min_samples_split=3, min_weight_fraction_leaf=0.0,\n",
    "           n_estimators=50, n_jobs=1, oob_score=False, random_state= 0,\n",
    "           verbose=0, warm_start=False)\n",
    "\n",
    "#train our model from the training data\n",
    "RF_model.fit(train_x, train_y)\n",
    "#predict the prices from the testing dataset\n",
    "predicted_prices = RF_model.predict(test_x)\n",
    "\n",
    "cv = KFold(n_splits=11, shuffle=True, random_state=13)\n",
    "scores = cross_val_score(RF_model, train_x, train_y, cv=cv)\n",
    "mean_score = format(np.mean(scores), '0.3f')\n",
    "sem_score = format(sem(scores), '0.03f')\n",
    "mae = format(mean_absolute_error(test_y, predicted_prices), '.0f')\n",
    "mse = format(mean_squared_error(test_y, predicted_prices), '.0f') \n",
    "\n",
    "Models_Results['RandomForest'] = [mean_score, sem_score,mae,mse]\n",
    "print('RandomForest Scores:')\n",
    "print('Mean cross-validation score :', mean_score)\n",
    "print('Stand.err of the mean of the scores :', sem_score)\n",
    "print('Mean Absolute Error :', mae)\n",
    "print('Mean Square Error :', mse)"
   ]
  },
  {
   "cell_type": "code",
   "execution_count": 17,
   "metadata": {},
   "outputs": [
    {
     "data": {
      "image/png": "[encoded data removed]",
      "text/plain": [
       "<matplotlib.figure.Figure at 0x26d18adda20>"
      ]
     },
     "metadata": {},
     "output_type": "display_data"
    }
   ],
   "source": [
    "plt.figure(figsize=(10, 5))\n",
    "plt.scatter(test_y, predicted_prices, s=20)\n",
    "plt.title('Predicted vs. Actual')\n",
    "plt.xlabel('Actual Sale Price')\n",
    "plt.ylabel('Predicted Sale Price')\n",
    "\n",
    "plt.plot([min(test_y), max(test_y)], [min(test_y), max(test_y)])\n",
    "plt.tight_layout()"
   ]
  },
  {
   "cell_type": "markdown",
   "metadata": {},
   "source": [
    "Simple Explanation:AdaBoost regressor.\n",
    "\n",
    "An AdaBoost regressor is a meta-estimator that begins by fitting a regressor on the original dataset and then fits additional copies of the regressor on the same dataset but where the weights of instances are adjusted according to the error of the current prediction. As such, subsequent regressors focus more on difficult cases.\n",
    "\n",
    "It fits a sequence of weak learners on different weighted training data. It starts by predicting original data set and gives equal weight to each observation. If prediction is incorrect using the first learner, then it gives higher weight to the observation which have been predicted incorrectly. Being an iterative process, it continues to add learners until a limit is reached in the number of models or accuracy.\n",
    "All in all, with AdaBoostRegressor, each classifier gets its own weight accordingly to its importance."
   ]
  },
  {
   "cell_type": "code",
   "execution_count": 18,
   "metadata": {},
   "outputs": [
    {
     "name": "stdout",
     "output_type": "stream",
     "text": [
      "AdaptiveBoostRegressor Scores:\n",
      "Mean crossvalidation score : 0.867\n",
      "Stand.err of the mean of the scores : 0.020\n",
      "Mean Absolute Error : 53159\n",
      "Mean Square Error : 4941909333\n"
     ]
    }
   ],
   "source": [
    "#FOURTH MODEL: ADABOOSTREGRESSOR\n",
    "#about 10mins to run\n",
    "rgr = AdaBoostRegressor(price_tree, n_estimators=1000, random_state = 0)\n",
    "rgr.fit(train_x, train_y)\n",
    "\n",
    "predicted_prices = rgr.predict(test_x)\n",
    "\n",
    "scores = cross_val_score(rgr, train_x, train_y, cv=cv)\n",
    "mean_score = format(np.mean(scores), '.3f')\n",
    "sem_score = format(sem(scores), '.03f')\n",
    "mae = format(mean_absolute_error(test_y, predicted_prices), '.0f')\n",
    "mse = format(mean_squared_error(test_y, predicted_prices), '.0f') \n",
    "\n",
    "Models_Results['AdaBoost'] = [mean_score, sem_score, mae, mse]\n",
    "print('AdaptiveBoostRegressor Scores:')\n",
    "print('Mean crossvalidation score :', mean_score)\n",
    "print('Stand.err of the mean of the scores :', sem_score)\n",
    "print('Mean Absolute Error :', mae)\n",
    "print('Mean Square Error :', mse)"
   ]
  },
  {
   "cell_type": "code",
   "execution_count": 19,
   "metadata": {},
   "outputs": [
    {
     "name": "stdout",
     "output_type": "stream",
     "text": [
      "Ordinary Least Squares Scores:\n",
      "Mean crossvalidation score : 0.79\n",
      "Stand.err of the mean of the scores : 0.0538\n",
      "Mean Absolute Error : 56697\n",
      "Mean Square Error : 5673731828\n",
      "\n",
      "Ridge Regression Variance Scores:\n",
      "Mean crossvalidation score : 0.806\n",
      "Stand.err of the mean of the scores : 0.041\n",
      "Mean Absolute Error : 55676\n",
      "Mean Square Error : 5384897190\n",
      "\n",
      "Lasso Scores:\n",
      "Mean crossvalidation score : 0.80\n",
      "Stand.err of the mean of the scores : 0.051\n",
      "Mean Absolute Error : 56686\n",
      "Mean Square Error : 5671602527\n"
     ]
    }
   ],
   "source": [
    "#OTHER MODELS: Lets try the most known  Generalized Linear Models\n",
    "#More explanation about how linear models work have been given on the Assignement 3 (Question 2).\n",
    "#This time we dont focus on the mechanism behind those models. \n",
    "#We will just try different linear models to show and compare the results.\n",
    "#However, we should check first the assumptions of these models before we use them.\n",
    "\n",
    "OLS = linear_model.LinearRegression(n_jobs =-1)\n",
    "OLS.fit(train_x, train_y)       \n",
    "\n",
    "predicted_prices = OLS.predict(test_x)\n",
    "\n",
    "scores = cross_val_score(OLS, train_x, train_y, cv=cv)\n",
    "mean_score = format(np.mean(scores), '.2f')\n",
    "sem_score = format(sem(scores), '.03')\n",
    "mae = format(mean_absolute_error(test_y, predicted_prices), '.0f')\n",
    "mse = format(mean_squared_error(test_y, predicted_prices), '.0f') \n",
    "\n",
    "Models_Results['OLS'] = [mean_score,sem_score,mae,mse]\n",
    "print('Ordinary Least Squares Scores:')\n",
    "print('Mean crossvalidation score :', mean_score)\n",
    "print('Stand.err of the mean of the scores :', sem_score)\n",
    "print('Mean Absolute Error :', mae)\n",
    "print('Mean Square Error :', mse)\n",
    "\n",
    "Ridge = linear_model.RidgeCV(alphas=[0.1, 1.0, 10.0], fit_intercept = True, normalize = True)\n",
    "Ridge.fit(train_x, train_y)\n",
    "predicted_prices = Ridge.predict(test_x)\n",
    "\n",
    "scores = cross_val_score(Ridge, train_x, train_y, cv=cv)\n",
    "mean_score = format(np.mean(scores), '.3f')\n",
    "sem_score = format(sem(scores), '.03f')\n",
    "mae = format(mean_absolute_error(test_y, predicted_prices), '.0f')\n",
    "mse = format(mean_squared_error(test_y, predicted_prices), '.0f') \n",
    "\n",
    "Models_Results['Ridge'] = [mean_score,sem_score,mae,mse]\n",
    "print()\n",
    "print('Ridge Regression Variance Scores:')\n",
    "print('Mean crossvalidation score :', mean_score)\n",
    "print('Stand.err of the mean of the scores :', sem_score)\n",
    "print('Mean Absolute Error :', mae)\n",
    "print('Mean Square Error :', mse)\n",
    "\n",
    "Lasso = linear_model.Lasso(alpha=0.1, copy_X=True, fit_intercept=True, max_iter=1000,\n",
    "                           normalize=False, positive=False, precompute=False, random_state=0,\n",
    "                            selection='cyclic', tol=0.0001, warm_start=False)\n",
    "\n",
    "Lasso.fit(train_x, train_y)\n",
    "predicted_prices = Lasso.predict(test_x)\n",
    "\n",
    "scores = cross_val_score(Lasso, train_x, train_y, cv=cv)\n",
    "mean_score = format(np.mean(scores), '.2f')\n",
    "sem_score = format(sem(scores), '.03f')\n",
    "mae = format(mean_absolute_error(test_y, predicted_prices), '.0f')\n",
    "mse = format(mean_squared_error(test_y, predicted_prices), '.0f') \n",
    "\n",
    "Models_Results['Lasso'] = [mean_score,sem_score,mae,mse]\n",
    "print()\n",
    "print('Lasso Scores:')\n",
    "print('Mean crossvalidation score :', mean_score)\n",
    "print('Stand.err of the mean of the scores :', sem_score)\n",
    "print('Mean Absolute Error :', mae)\n",
    "print('Mean Square Error :', mse)"
   ]
  },
  {
   "cell_type": "markdown",
   "metadata": {},
   "source": [
    "Here we will explore the most important features of RandomForest and AdaBoost models side by side so we can compare them"
   ]
  },
  {
   "cell_type": "code",
   "execution_count": 22,
   "metadata": {},
   "outputs": [
    {
     "data": {
      "text/html": [
       "<div>\n",
       "<style>\n",
       "    .dataframe thead tr:only-child th {\n",
       "        text-align: right;\n",
       "    }\n",
       "\n",
       "    .dataframe thead th {\n",
       "        text-align: left;\n",
       "    }\n",
       "\n",
       "    .dataframe tbody tr th {\n",
       "        vertical-align: top;\n",
       "    }\n",
       "</style>\n",
       "<table border=\"1\" class=\"dataframe\">\n",
       "  <thead>\n",
       "    <tr style=\"text-align: right;\">\n",
       "      <th></th>\n",
       "      <th>AdaBoost</th>\n",
       "      <th>RandomFores</th>\n",
       "    </tr>\n",
       "  </thead>\n",
       "  <tbody>\n",
       "    <tr>\n",
       "      <th>0</th>\n",
       "      <td>OverallQual   0.406</td>\n",
       "      <td>OverallQual   0.592</td>\n",
       "    </tr>\n",
       "    <tr>\n",
       "      <th>1</th>\n",
       "      <td>2ndFlrSF   0.144</td>\n",
       "      <td>GrLivArea   0.109</td>\n",
       "    </tr>\n",
       "    <tr>\n",
       "      <th>2</th>\n",
       "      <td>GarageCars   0.091</td>\n",
       "      <td>TotalBsmtSF   0.044</td>\n",
       "    </tr>\n",
       "    <tr>\n",
       "      <th>3</th>\n",
       "      <td>GrLivArea   0.078</td>\n",
       "      <td>BsmtFinSF1   0.031</td>\n",
       "    </tr>\n",
       "    <tr>\n",
       "      <th>4</th>\n",
       "      <td>BsmtFinSF1   0.032</td>\n",
       "      <td>2ndFlrSF   0.031</td>\n",
       "    </tr>\n",
       "    <tr>\n",
       "      <th>5</th>\n",
       "      <td>TotalBsmtSF   0.030</td>\n",
       "      <td>GarageCars   0.026</td>\n",
       "    </tr>\n",
       "    <tr>\n",
       "      <th>6</th>\n",
       "      <td>1stFlrSF   0.026</td>\n",
       "      <td>1stFlrSF   0.022</td>\n",
       "    </tr>\n",
       "    <tr>\n",
       "      <th>7</th>\n",
       "      <td>LotArea   0.018</td>\n",
       "      <td>GarageArea   0.018</td>\n",
       "    </tr>\n",
       "    <tr>\n",
       "      <th>8</th>\n",
       "      <td>MasVnrArea   0.017</td>\n",
       "      <td>YearBuilt   0.012</td>\n",
       "    </tr>\n",
       "    <tr>\n",
       "      <th>9</th>\n",
       "      <td>TotRmsAbvGrd   0.016</td>\n",
       "      <td>LotArea   0.011</td>\n",
       "    </tr>\n",
       "  </tbody>\n",
       "</table>\n",
       "</div>"
      ],
      "text/plain": [
       "               AdaBoost          RandomFores\n",
       "0   OverallQual   0.406  OverallQual   0.592\n",
       "1      2ndFlrSF   0.144    GrLivArea   0.109\n",
       "2    GarageCars   0.091  TotalBsmtSF   0.044\n",
       "3     GrLivArea   0.078   BsmtFinSF1   0.031\n",
       "4    BsmtFinSF1   0.032     2ndFlrSF   0.031\n",
       "5   TotalBsmtSF   0.030   GarageCars   0.026\n",
       "6      1stFlrSF   0.026     1stFlrSF   0.022\n",
       "7       LotArea   0.018   GarageArea   0.018\n",
       "8    MasVnrArea   0.017    YearBuilt   0.012\n",
       "9  TotRmsAbvGrd   0.016      LotArea   0.011"
      ]
     },
     "execution_count": 22,
     "metadata": {},
     "output_type": "execute_result"
    }
   ],
   "source": [
    "# ~3min run time\n",
    "X = train_x\n",
    "Y = train_y\n",
    "\n",
    "#no need to fit our models again if we already have dont it above\n",
    "#RF_model.fit(X, Y)\n",
    "#rgr.fit(X,Y)\n",
    "\n",
    "importances_RF = RF_model.feature_importances_\n",
    "importances_AdaBoost = rgr.feature_importances_\n",
    "\n",
    "std_RF = np.std([tree.feature_importances_ for tree in RF_model.estimators_],\n",
    "             axis=0)\n",
    "std_AdaBoost = np.std([tree.feature_importances_ for tree in rgr.estimators_],\n",
    "             axis=0)\n",
    "\n",
    "indices_RF = np.argsort(importances_RF)[::-1]\n",
    "indices_AdaBoost = np.argsort(importances_AdaBoost)[::-1]\n",
    "\n",
    "most_important_f_RF = []\n",
    "most_important_f_AdaBoost = []\n",
    "\n",
    "for f in range(0,10):\n",
    "    most_important_f_RF.append(str(train_x.columns[indices_RF[f]] + '   ' + format(importances_RF[indices_RF[f]], '.03f')))\n",
    "    most_important_f_AdaBoost.append(str(train_x.columns[indices_AdaBoost[f]] + '   ' + format(importances_AdaBoost[indices_AdaBoost[f]], '.03f')))\n",
    "\n",
    "top_feutures = pd.DataFrame(\n",
    "    {'RandomFores': most_important_f_RF,\n",
    "     'AdaBoost': most_important_f_AdaBoost    \n",
    "    })\n",
    "\n",
    "top_feutures"
   ]
  },
  {
   "cell_type": "markdown",
   "metadata": {},
   "source": [
    "From the output of the previous cell we can see the top 10 important features for the 2 models.\n",
    "On both models the most important feature is the OverallQuality of the house and this variable determines about the 50% of the prediction of the price.\n",
    "In general the features are almost the same in both models with small discrepancies on their importance.\n",
    "Now lets visualise them."
   ]
  },
  {
   "cell_type": "code",
   "execution_count": 23,
   "metadata": {},
   "outputs": [
    {
     "data": {
      "text/plain": [
       "(-1, 10)"
      ]
     },
     "execution_count": 23,
     "metadata": {},
     "output_type": "execute_result"
    },
    {
     "data": {
      "text/plain": [
       "<matplotlib.figure.Figure at 0x26d18f0ecc0>"
      ]
     },
     "metadata": {},
     "output_type": "display_data"
    },
    {
     "data": {
      "image/png": "[encoded data removed]",
      "text/plain": [
       "<matplotlib.figure.Figure at 0x26d18f0eeb8>"
      ]
     },
     "metadata": {},
     "output_type": "display_data"
    },
    {
     "data": {
      "image/png": "[encoded data removed]",
      "text/plain": [
       "<matplotlib.figure.Figure at 0x26d18ffe438>"
      ]
     },
     "metadata": {},
     "output_type": "display_data"
    }
   ],
   "source": [
    "# Plot the feature importances of the forest\n",
    "plt.tight_layout()\n",
    "\n",
    "plt.figure(figsize=(12, 10))\n",
    "plt.title(\"Feature importances RandomForest\")\n",
    "plt.bar(range(10), importances_RF[indices_RF[0:10]],\n",
    "       color=\"r\", yerr=std_RF[indices_RF[0:10]], align=\"center\")\n",
    "plt.xticks(range(10), train_x.columns[indices_RF[0:10]])\n",
    "plt.xlim([-1, 10])\n",
    "\n",
    "plt.figure(figsize=(12, 10))\n",
    "plt.title(\"Feature importances AdaBoost\")\n",
    "plt.bar(range(10), importances_AdaBoost[indices_AdaBoost[0:10]],\n",
    "       color=\"r\", yerr=std_AdaBoost[indices_AdaBoost[0:10]], align=\"center\")\n",
    "plt.xticks(range(10), train_x.columns[indices_AdaBoost[0:10]])\n",
    "plt.xlim([-1, 10])"
   ]
  },
  {
   "cell_type": "markdown",
   "metadata": {},
   "source": [
    "To conclude we will print all model's results to compare them side by side."
   ]
  },
  {
   "cell_type": "code",
   "execution_count": 24,
   "metadata": {},
   "outputs": [
    {
     "data": {
      "text/html": [
       "<div>\n",
       "<style>\n",
       "    .dataframe thead tr:only-child th {\n",
       "        text-align: right;\n",
       "    }\n",
       "\n",
       "    .dataframe thead th {\n",
       "        text-align: left;\n",
       "    }\n",
       "\n",
       "    .dataframe tbody tr th {\n",
       "        vertical-align: top;\n",
       "    }\n",
       "</style>\n",
       "<table border=\"1\" class=\"dataframe\">\n",
       "  <thead>\n",
       "    <tr style=\"text-align: right;\">\n",
       "      <th></th>\n",
       "      <th>Evaluators</th>\n",
       "      <th>DecisionTree</th>\n",
       "      <th>BaggingTrees</th>\n",
       "      <th>RandomForest</th>\n",
       "      <th>AdaBoost</th>\n",
       "      <th>OLS</th>\n",
       "      <th>Ridge</th>\n",
       "      <th>Lasso</th>\n",
       "    </tr>\n",
       "  </thead>\n",
       "  <tbody>\n",
       "    <tr>\n",
       "      <th>0</th>\n",
       "      <td>mean_cv_score</td>\n",
       "      <td>0.766</td>\n",
       "      <td>0.854</td>\n",
       "      <td>0.854</td>\n",
       "      <td>0.867</td>\n",
       "      <td>0.79</td>\n",
       "      <td>0.806</td>\n",
       "      <td>0.80</td>\n",
       "    </tr>\n",
       "    <tr>\n",
       "      <th>1</th>\n",
       "      <td>stand.error_mean_score</td>\n",
       "      <td>0.028</td>\n",
       "      <td>0.022</td>\n",
       "      <td>0.022</td>\n",
       "      <td>0.020</td>\n",
       "      <td>0.0538</td>\n",
       "      <td>0.041</td>\n",
       "      <td>0.051</td>\n",
       "    </tr>\n",
       "    <tr>\n",
       "      <th>2</th>\n",
       "      <td>MAE_test</td>\n",
       "      <td>57271</td>\n",
       "      <td>53665</td>\n",
       "      <td>53633</td>\n",
       "      <td>53159</td>\n",
       "      <td>56697</td>\n",
       "      <td>55676</td>\n",
       "      <td>56686</td>\n",
       "    </tr>\n",
       "    <tr>\n",
       "      <th>3</th>\n",
       "      <td>MSE_test</td>\n",
       "      <td>6045681432</td>\n",
       "      <td>4965225269</td>\n",
       "      <td>4988233414</td>\n",
       "      <td>4941909333</td>\n",
       "      <td>5673731828</td>\n",
       "      <td>5384897190</td>\n",
       "      <td>5671602527</td>\n",
       "    </tr>\n",
       "  </tbody>\n",
       "</table>\n",
       "</div>"
      ],
      "text/plain": [
       "               Evaluators DecisionTree BaggingTrees RandomForest    AdaBoost  \\\n",
       "0           mean_cv_score        0.766        0.854        0.854       0.867   \n",
       "1  stand.error_mean_score        0.028        0.022        0.022       0.020   \n",
       "2                MAE_test        57271        53665        53633       53159   \n",
       "3                MSE_test   6045681432   4965225269   4988233414  4941909333   \n",
       "\n",
       "          OLS       Ridge       Lasso  \n",
       "0        0.79       0.806        0.80  \n",
       "1      0.0538       0.041       0.051  \n",
       "2       56697       55676       56686  \n",
       "3  5673731828  5384897190  5671602527  "
      ]
     },
     "execution_count": 24,
     "metadata": {},
     "output_type": "execute_result"
    }
   ],
   "source": [
    "Models_Results"
   ]
  },
  {
   "cell_type": "markdown",
   "metadata": {},
   "source": [
    "All in all, AdaptiveBoostTrees is our best model with the best mean_cross_val_score followed by the RandomForest and BaggingTrees with a slight difference.\n",
    "\n",
    "However, the case of this assignment is to show and compare different ML models without spending time to tune the models.\n",
    "So if we had spent a lot of time to tune the parameters of all the models maybe an other model would predict better the prices."
   ]
  },
  {
   "cell_type": "markdown",
   "metadata": {},
   "source": [
    "Features selection:\n",
    "\n",
    "The two models with the best scores(AdaBoost and RandomForest) are using all the variables to predict the prices(Except from those that were excluded on the ETL procces, more detailts are on the comments above).\n",
    "This is quite normal because even if we have a max depth on those models, RandomForest and AdaBoost are selecting for each estimator(DecTree) a number m of random predictors(features) as have been explained above.\n",
    "\n",
    "We can prove that on the next cell:"
   ]
  },
  {
   "cell_type": "code",
   "execution_count": 26,
   "metadata": {},
   "outputs": [
    {
     "name": "stdout",
     "output_type": "stream",
     "text": [
      "RandomForest uses all the features:  True\n",
      "AdaBoost uses all the features:  True\n"
     ]
    }
   ],
   "source": [
    "#model.feature_importances_ get the importance for every feature that have been used even if that value is too small.\n",
    "print('RandomForest uses all the features: ', len(train_x.columns) == len(RF_model.feature_importances_))\n",
    "print('AdaBoost uses all the features: ', len(train_x.columns) == len(rgr.feature_importances_))"
   ]
  },
  {
   "cell_type": "markdown",
   "metadata": {},
   "source": [
    "All the question have been asked on the assignment have been answered in Markdowns and comments above."
   ]
  }
 ],
 "metadata": {
  "kernelspec": {
   "display_name": "Python 3",
   "language": "python",
   "name": "python3"
  },
  "language_info": {
   "codemirror_mode": {
    "name": "ipython",
    "version": 3
   },
   "file_extension": ".py",
   "mimetype": "text/x-python",
   "name": "python",
   "nbconvert_exporter": "python",
   "pygments_lexer": "ipython3",
   "version": "3.6.5"
  }
 },
 "nbformat": 4,
 "nbformat_minor": 2
}
