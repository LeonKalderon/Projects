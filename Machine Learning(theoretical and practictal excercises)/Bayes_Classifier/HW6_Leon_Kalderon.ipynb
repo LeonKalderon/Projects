{
 "cells": [
  {
   "cell_type": "markdown",
   "metadata": {},
   "source": [
    "Exercise 3, Homework6.\n",
    "The code is copy pasted from the class example."
   ]
  },
  {
   "cell_type": "code",
   "execution_count": 2,
   "metadata": {},
   "outputs": [
    {
     "name": "stdout",
     "output_type": "stream",
     "text": [
      "[ 0.15]\n"
     ]
    }
   ],
   "source": [
    "import scipy.io as sio\n",
    "from scipy.stats import multivariate_normal, norm\n",
    "import numpy as np\n",
    "import matplotlib.pyplot as plt\n",
    "Dataset = sio.loadmat('HW6.mat')\n",
    "\n",
    "train_x = Dataset['train_x']\n",
    "train_y = Dataset['train_y']\n",
    "test_x = Dataset['test_x']\n",
    "test_y = Dataset['test_y']\n",
    "\n",
    "#(i)\n",
    "# Estimation of the priori probabilities P(ω_1) and P(ω_2) \n",
    "N1 = np.sum(i == 1 for i in train_y)\n",
    "N2= np.sum(i == 2 for i in train_y)\n",
    "N = len(train_y)\n",
    "P1 = N1/N #P(ω_1)\n",
    "P2 = N2/N #P(ω_2)\n",
    "\n",
    "#ML estimates of μ1,μ2,Σ1 and Σ2\n",
    "m1 = np.mean(train_x[0:100,:],0)\n",
    "m2 = np.mean(train_x[100:200,:],0)\n",
    "\n",
    "#multivariate normal distribution's covariance matrices \n",
    "S1 = 1/N1*((train_x[0:100,:] - \n",
    "            np.matlib.repmat(m1,100,1)).T).dot((train_x[0:100,:] - \n",
    "                                                     np.matlib.repmat(m1,100,1)))\n",
    "S2 = 1/N2*((train_x[100:200,:] - \n",
    "            np.matlib.repmat(m2,100,1)).T).dot((train_x[100:200,:] - \n",
    "                                                     np.matlib.repmat(m2,100,1)))\n",
    "#(ii)\n",
    "\n",
    "#Calculate the propabilities of each point to belong on each class.\n",
    "N_test = len(test_y)\n",
    "class1 =  multivariate_normal(m1,S1)\n",
    "I = class1.pdf(test_x)*P1 #I is a N-dim vector which the values: p(x_i/ω_1)*P(ω_1) for all x_is of the training set\n",
    "class2 =  multivariate_normal(m2,S2)\n",
    "J = class2.pdf(test_x)*P2 #J is similar to I but for class ω_2 (values of p(x_i/ω_2)*P(ω_2))\n",
    "\n",
    "#Classify the samples of the test set\n",
    "Btest_y = np.zeros((N_test,1)) # Create a vector for storing the labels of the samples of the test set\n",
    "\n",
    "Btest_y[I>J] = 1\n",
    "Btest_y[I<J] = 2\n",
    "\n",
    "#(iii)\n",
    "#Error Estimation\n",
    "#The percentage of points that have been classified to the wrong class.\n",
    "Error_Bayes = (np.sum(i==1 for i in Btest_y != test_y))/N_test\n",
    "print(Error_Bayes)"
   ]
  },
  {
   "cell_type": "code",
   "execution_count": 8,
   "metadata": {},
   "outputs": [
    {
     "data": {
      "image/png": "[encoded data removed]",
      "text/plain": [
       "<matplotlib.figure.Figure at 0x1c5db1a5908>"
      ]
     },
     "metadata": {},
     "output_type": "display_data"
    },
    {
     "data": {
      "image/png": "[encoded data removed]",
      "text/plain": [
       "<matplotlib.figure.Figure at 0x1c5db2a2eb8>"
      ]
     },
     "metadata": {},
     "output_type": "display_data"
    }
   ],
   "source": [
    "#(b)\n",
    "#An insight on the training set\n",
    "plt.plot(train_x[100:200,0],train_x[100:200,1],'b+')\n",
    "plt.plot(train_x[0:100,0],train_x[0:100,1],'r*')\n",
    "plt.title('Train Set')\n",
    "plt.show()\n",
    "plt.plot(test_x[100:200,0],test_x[100:200,1],'b+')\n",
    "plt.plot(test_x[0:100,0],test_x[0:100,1],'r*')\n",
    "plt.title('Test Set')\n",
    "plt.show()"
   ]
  },
  {
   "cell_type": "markdown",
   "metadata": {},
   "source": [
    "(C)\n",
    "We observe that 15% of the test sample have been classified wrongly.\n",
    "This is reasonable because the 2 multivariate normal distributions overlap, thus there are some points that even if they are more probable to be assigned on one class they actually belong to the other one.\n",
    "Moreover, the above conclusion is obvious from the plot."
   ]
  },
  {
   "cell_type": "code",
   "execution_count": null,
   "metadata": {},
   "outputs": [],
   "source": []
  }
 ],
 "metadata": {
  "kernelspec": {
   "display_name": "Python 3",
   "language": "python",
   "name": "python3"
  },
  "language_info": {
   "codemirror_mode": {
    "name": "ipython",
    "version": 3
   },
   "file_extension": ".py",
   "mimetype": "text/x-python",
   "name": "python",
   "nbconvert_exporter": "python",
   "pygments_lexer": "ipython3",
   "version": "3.6.1"
  }
 },
 "nbformat": 4,
 "nbformat_minor": 2
}
