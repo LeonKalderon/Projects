{
 "cells": [
  {
   "cell_type": "markdown",
   "metadata": {},
   "source": [
    "# Homework8 \n",
    "# Exercise 1\n",
    "\n",
    "(a) .pdf"
   ]
  },
  {
   "cell_type": "markdown",
   "metadata": {},
   "source": [
    "(b) Bayesian Classifier (this is the code from Homework6) "
   ]
  },
  {
   "cell_type": "code",
   "execution_count": 34,
   "metadata": {},
   "outputs": [
    {
     "name": "stdout",
     "output_type": "stream",
     "text": [
      "[ 0.15]\n"
     ]
    },
    {
     "data": {
      "text/plain": [
       "(200, 2)"
      ]
     },
     "execution_count": 34,
     "metadata": {},
     "output_type": "execute_result"
    }
   ],
   "source": [
    "import scipy.io as sio\n",
    "from scipy.stats import multivariate_normal, norm\n",
    "import numpy as np\n",
    "import matplotlib.pyplot as plt\n",
    "Dataset = sio.loadmat('HW8.mat')\n",
    "\n",
    "train_x = Dataset['train_x']\n",
    "train_y = Dataset['train_y']\n",
    "test_x = Dataset['test_x']\n",
    "test_y = Dataset['test_y']\n",
    "\n",
    "#(i)\n",
    "# Estimation of the priori probabilities P(ω_1) and P(ω_2) \n",
    "N1 = np.sum(i == 1 for i in train_y)\n",
    "N2= np.sum(i == 2 for i in train_y)\n",
    "N = len(train_y)\n",
    "P1 = N1/N #P(ω_1)\n",
    "P2 = N2/N #P(ω_2)\n",
    "\n",
    "#ML estimates of μ1,μ2,Σ1 and Σ2\n",
    "m1 = np.mean(train_x[0:100,:],0)\n",
    "m2 = np.mean(train_x[100:200,:],0)\n",
    "\n",
    "#multivariate normal distribution's covariance matrices \n",
    "S1 = 1/N1*((train_x[0:100,:] - \n",
    "            np.matlib.repmat(m1,100,1)).T).dot((train_x[0:100,:] - \n",
    "                                                     np.matlib.repmat(m1,100,1)))\n",
    "S2 = 1/N2*((train_x[100:200,:] - \n",
    "            np.matlib.repmat(m2,100,1)).T).dot((train_x[100:200,:] - \n",
    "                                                     np.matlib.repmat(m2,100,1)))\n",
    "#(ii)\n",
    "\n",
    "#Calculate the propabilities of each point to belong on each class.\n",
    "N_test = len(test_y)\n",
    "class1 =  multivariate_normal(m1,S1)\n",
    "I = class1.pdf(test_x)*P1 #I is a N-dim vector which the values: p(x_i/ω_1)*P(ω_1) for all x_is of the training set\n",
    "class2 =  multivariate_normal(m2,S2)\n",
    "J = class2.pdf(test_x)*P2 #J is similar to I but for class ω_2 (values of p(x_i/ω_2)*P(ω_2))\n",
    "\n",
    "#Classify the samples of the test set\n",
    "Btest_y = np.zeros((N_test,1)) # Create a vector for storing the labels of the samples of the test set\n",
    "\n",
    "Btest_y[I>J] = 1\n",
    "Btest_y[I<J] = 2\n",
    "\n",
    "#(iii)\n",
    "#Error Estimation\n",
    "#The percentage of points that have been classified to the wrong class.\n",
    "Error_Bayes = (np.sum(i==1 for i in Btest_y != test_y))/N_test\n",
    "print(Error_Bayes)"
   ]
  },
  {
   "cell_type": "markdown",
   "metadata": {},
   "source": [
    "# Logistic Regression classifier from Scratch"
   ]
  },
  {
   "cell_type": "code",
   "execution_count": 35,
   "metadata": {
    "collapsed": true
   },
   "outputs": [
    {
     "name": "stderr",
     "output_type": "stream",
     "text": [
      "C:\\Users\\User\\Anaconda3\\lib\\site-packages\\ipykernel_launcher.py:2: DeprecationWarning: Non length-one string passed in for the array ordering. Please pass in 'C', 'F', 'A', or 'K' instead\n",
      "  \n",
      "C:\\Users\\User\\Anaconda3\\lib\\site-packages\\ipykernel_launcher.py:7: DeprecationWarning: Non length-one string passed in for the array ordering. Please pass in 'C', 'F', 'A', or 'K' instead\n",
      "  import sys\n"
     ]
    },
    {
     "name": "stdout",
     "output_type": "stream",
     "text": [
      "0.21\n"
     ]
    }
   ],
   "source": [
    "#make train_y and test_y to be compatible for use\n",
    "Y = train_y.flatten('False')\n",
    "Y.tolist()\n",
    "Y[Y==1] = 0\n",
    "Y[Y==2] = 1\n",
    "\n",
    "target = test_y.flatten('False')\n",
    "\n",
    "def sigmoid(scores):\n",
    "    return 1 / (1 + np.exp(-scores))\n",
    "\n",
    "\n",
    "#predict log-reg parameters with gradient descent\n",
    "#x : training dataset\n",
    "#y : training results (y)\n",
    "#num_steps: nummber of steps for gradient descent\n",
    "#because we know that our function we want to minimize with Gradient Descent has only one minimum we dont need to try many thetas\n",
    "def logistic_regression(x, y, num_steps, learning_rate):\n",
    "    #starting thetas(we could give anything)\n",
    "    theta =  [1, 1.0, 1.0]\n",
    "    #add ones on our X so we can predict our theta0(intercept too)\n",
    "    ones = np.ones((x.shape[0], 1))\n",
    "    x = np.hstack((ones, x))       \n",
    "    \n",
    "    #Gradient descent\n",
    "    for step in range(num_steps):\n",
    "        #Predict on every loop the ys for the current theta\n",
    "        scores = np.dot(x,theta)\n",
    "        predictions =sigmoid(scores)\n",
    "        #theta = theta_prev - (s-y)X\n",
    "        temp = predictions - y\n",
    "        gradient = np.dot(x.T, temp)\n",
    "        theta =theta - learning_rate * gradient\n",
    "      \n",
    "    return theta\n",
    "\n",
    "#Thetas that our model have train\n",
    "thetas = logistic_regression(train_x, Y,\n",
    "                     num_steps = 300000, learning_rate = 0.05)\n",
    "\n",
    "#For the parameters we got from the training data try to predict the classes of the test set.\n",
    "ones = np.ones((test_x.shape[0], 1))\n",
    "test_x = np.hstack((ones, test_x))\n",
    "scores = np.dot(test_x, thetas)\n",
    "predictions = sigmoid(scores)\n",
    "\n",
    "predictions[predictions>0.5] = 2\n",
    "predictions[predictions<0.5] = 1\n",
    "\n",
    "#Calculate the error of this method\n",
    "Error_Log = (np.sum(i==1 for i in predictions != target))/N_test\n",
    "print(np.mean(Error_Log))"
   ]
  },
  {
   "cell_type": "markdown",
   "metadata": {},
   "source": [
    "We observe that the logistic regression classifier has error 0.21 for the parameters given above(number of iteration and learning_rate for the gradient descent optimazation technique).\n",
    "Maybe we could achieve better results if we tune our model by trying different starting thetas, num_steps and learning rate.\n",
    "\n",
    "Bayes classifier has a smaller error score = 0.15.\n",
    "To conclude, when we know the distributions that our data comes from, Bayes is a more accurate classifier. \n",
    "\n"
   ]
  },
  {
   "cell_type": "markdown",
   "metadata": {},
   "source": [
    "# Exercise 2\n",
    "\n",
    "(a)"
   ]
  },
  {
   "cell_type": "code",
   "execution_count": 32,
   "metadata": {},
   "outputs": [
    {
     "data": {
      "image/png": "[encoded data removed]",
      "text/plain": [
       "<matplotlib.figure.Figure at 0x1a7a64039b0>"
      ]
     },
     "metadata": {},
     "output_type": "display_data"
    }
   ],
   "source": [
    "import matplotlib.pyplot as plt\n",
    "import numpy as np\n",
    "%matplotlib inline\n",
    "\n",
    "def sigmoid(scores,a):\n",
    "    return 1 / (1 + np.exp(-scores*(a)))\n",
    "\n",
    "x = np.linspace(-5,5,100)\n",
    "for i in range(1,50):\n",
    "    y = sigmoid(x,i)\n",
    "    plt.plot(x,y)\n",
    "    \n",
    " \n",
    "plt.ylabel('ratio')\n",
    "plt.title('Sigmoid function for different values of a')\n",
    "plt.show()"
   ]
  },
  {
   "cell_type": "markdown",
   "metadata": {},
   "source": [
    "The rest exercise on the .pdf file."
   ]
  },
  {
   "cell_type": "code",
   "execution_count": null,
   "metadata": {},
   "outputs": [],
   "source": []
  }
 ],
 "metadata": {
  "kernelspec": {
   "display_name": "Python 3",
   "language": "python",
   "name": "python3"
  },
  "language_info": {
   "codemirror_mode": {
    "name": "ipython",
    "version": 3
   },
   "file_extension": ".py",
   "mimetype": "text/x-python",
   "name": "python",
   "nbconvert_exporter": "python",
   "pygments_lexer": "ipython3",
   "version": "3.6.1"
  }
 },
 "nbformat": 4,
 "nbformat_minor": 2
}
