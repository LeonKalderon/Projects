{
 "cells": [
  {
   "cell_type": "code",
   "execution_count": 1,
   "metadata": {},
   "outputs": [
    {
     "data": {
      "text/plain": [
       "'26.0 %'"
      ]
     },
     "execution_count": 1,
     "metadata": {},
     "output_type": "execute_result"
    }
   ],
   "source": [
    "import tweepy\n",
    "from twitter_config import config\n",
    "\n",
    "def get_reply_percentage(config, username, max_tweets = 100):\n",
    "    \n",
    "    #connect to the twitter API\n",
    "    auth = tweepy.OAuthHandler(config['consumer_key'], config['consumer_secret'])\n",
    "    auth.set_access_token(config['access_token'], config['access_token_secret'])\n",
    "    api = tweepy.API(auth)\n",
    "    \n",
    "    '''Iterate over a user's timeline and count the tweets that are replies.\n",
    "    As replies I have considered only the tweets that are replies to someone else. \n",
    "    The format 'RT @<..>' is also used for retweets so if we wanted to consider them in the percentage we could check\n",
    "    if the property retweeted_status exists on the json object.'''\n",
    "    count = 0\n",
    "    for i, tweet in enumerate(tweepy.Cursor(api.user_timeline, screen_name = username).items(max_tweets)):\n",
    "        if tweet.in_reply_to_user_id is not None: count += 1\n",
    "    # Calculate the percentage of the tweets that are replies and format this number to 1 decimal\n",
    "    percentage = format(count/(i+1)*100, '.1f') + ' %'\n",
    "    return percentage\n",
    "\n",
    "get_reply_percentage(config, 'rmforte')"
   ]
  }
 ],
 "metadata": {
  "kernelspec": {
   "display_name": "Python 3",
   "language": "python",
   "name": "python3"
  },
  "language_info": {
   "codemirror_mode": {
    "name": "ipython",
    "version": 3
   },
   "file_extension": ".py",
   "mimetype": "text/x-python",
   "name": "python",
   "nbconvert_exporter": "python",
   "pygments_lexer": "ipython3",
   "version": "3.6.1"
  }
 },
 "nbformat": 4,
 "nbformat_minor": 2
}
