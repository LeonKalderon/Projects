{
 "cells": [
  {
   "cell_type": "markdown",
   "metadata": {},
   "source": [
    "Before we start running our scripts I would like to do a small discussion about this question.\n",
    "\n",
    "Personally, I had a problem to understand the scope of this question that arises from 2 major things.\n",
    "\n",
    "1. I could not understand how we can use anova to compare proportions. Especially, after some research on the internet, none was suggesting anova for proportion comparison. Also, with anova, we can't do one-tail tests(i.e. Finding if a group is statistically significant bigger than the other one).\n",
    "\n",
    "2. My second missunderstanding was the comparison between which groups we should select. It was not clear for my understanding if I had to compare male-seniors with male-non_seniors or male-seniors with female-seniors. Similarly if I had to compare white-seniors with white-non_seniors or white-seniors with other_race-seniors.\n",
    "\n",
    "Because of the uncertainty I had, I chose to implement all the above cases.\n",
    "\n",
    "To conclude, I believe that the best interpretation and implementation is:\n",
    "\n",
    "Question1: proportion_ztest with:\n",
    "\n",
    "H0: proportion_male_seniors = proportion_male_non_seniors\n",
    "\n",
    "H1: proportion_male_seniors > proportion_male_non_seniors\n",
    "                                 \n",
    "Question2: proportion_ztest with:\n",
    "\n",
    "H0: proportion_white_seniors = proportion_white_non_seniors\n",
    "\n",
    "H1: proportion_white_seniors > proportion_white_non_seniors"
   ]
  },
  {
   "cell_type": "code",
   "execution_count": 1,
   "metadata": {},
   "outputs": [
    {
     "name": "stderr",
     "output_type": "stream",
     "text": [
      "C:\\Users\\User\\Anaconda3\\lib\\site-packages\\statsmodels\\compat\\pandas.py:56: FutureWarning: The pandas.core.datetools module is deprecated and will be removed in a future version. Please use the pandas.tseries module instead.\n",
      "  from pandas.core import datetools\n"
     ]
    }
   ],
   "source": [
    "import pandas as pd \n",
    "import numpy as np\n",
    "import matplotlib as plt\n",
    "import matplotlib.pyplot as  plt\n",
    "import statsmodels as st\n",
    "import statsmodels.formula.api as smf\n",
    "import statsmodels.api as sm\n",
    "%matplotlib inline\n",
    "\n",
    "data_filename = 'C:/Users/User/Desktop/Practical_DS_Leon/Assign_3/data/Reveal_EEO1_for_2016.csv'\n",
    "df = pd.read_csv(data_filename)"
   ]
  },
  {
   "cell_type": "markdown",
   "metadata": {},
   "source": [
    "Question 1, Case 1:\n",
    "We will compare MALE-SENIORS with MALE-NON_SENIORS"
   ]
  },
  {
   "cell_type": "code",
   "execution_count": 2,
   "metadata": {
    "scrolled": true
   },
   "outputs": [],
   "source": [
    "#(A)\n",
    "#ETL proccess stage_1\n",
    "#-select only the columns we need and\n",
    "#-drop NaNs \n",
    "#-exclude Totals and Previous Totals\n",
    "dfA = df.loc[:,['gender', 'job_category','count']].dropna().copy()\n",
    "dfA = dfA[dfA.job_category != 'Totals']\n",
    "dfA = dfA[dfA.job_category != 'Previous_totals']"
   ]
  },
  {
   "cell_type": "code",
   "execution_count": 3,
   "metadata": {},
   "outputs": [],
   "source": [
    "#ETL proccess stage_2\n",
    "#-select only the males because the case is to find if the proportion of males in senior positions is greater than that in non-senior positions!\n",
    "#-exclude count equal zero\n",
    "dfA = dfA[dfA['gender'] == 'male']\n",
    "dfA = dfA[dfA['count'] !='0']\n",
    "#-case count as integer\n",
    "dfA['count'] = dfA['count'].astype(int)"
   ]
  },
  {
   "cell_type": "code",
   "execution_count": 4,
   "metadata": {},
   "outputs": [],
   "source": [
    "#ETL proccess stage_3\n",
    "#finally transform the DF to the final form that we will run ANOVA (similar with the example on the lectures)\n",
    "dfA['job_category'] = dfA.apply(lambda row: 'senior' if row.job_category =='Executive/Senior officials & Mgrs' \\\n",
    "                        else 'non_senior', axis = 1)"
   ]
  },
  {
   "cell_type": "code",
   "execution_count": 5,
   "metadata": {},
   "outputs": [
    {
     "data": {
      "text/html": [
       "<div>\n",
       "<style>\n",
       "    .dataframe thead tr:only-child th {\n",
       "        text-align: right;\n",
       "    }\n",
       "\n",
       "    .dataframe thead th {\n",
       "        text-align: left;\n",
       "    }\n",
       "\n",
       "    .dataframe tbody tr th {\n",
       "        vertical-align: top;\n",
       "    }\n",
       "</style>\n",
       "<table border=\"1\" class=\"dataframe\">\n",
       "  <thead>\n",
       "    <tr style=\"text-align: right;\">\n",
       "      <th></th>\n",
       "      <th>sum_sq</th>\n",
       "      <th>df</th>\n",
       "      <th>F</th>\n",
       "      <th>PR(&gt;F)</th>\n",
       "    </tr>\n",
       "  </thead>\n",
       "  <tbody>\n",
       "    <tr>\n",
       "      <th>C(job_category)</th>\n",
       "      <td>9.693892e+06</td>\n",
       "      <td>1.0</td>\n",
       "      <td>5.154919</td>\n",
       "      <td>0.023471</td>\n",
       "    </tr>\n",
       "    <tr>\n",
       "      <th>Residual</th>\n",
       "      <td>1.374655e+09</td>\n",
       "      <td>731.0</td>\n",
       "      <td>NaN</td>\n",
       "      <td>NaN</td>\n",
       "    </tr>\n",
       "  </tbody>\n",
       "</table>\n",
       "</div>"
      ],
      "text/plain": [
       "                       sum_sq     df         F    PR(>F)\n",
       "C(job_category)  9.693892e+06    1.0  5.154919  0.023471\n",
       "Residual         1.374655e+09  731.0       NaN       NaN"
      ]
     },
     "execution_count": 5,
     "metadata": {},
     "output_type": "execute_result"
    }
   ],
   "source": [
    "#p-value is 0.023. For a = 0.05 we reject H0 that says the two categories (senior-non_senior) employ the same ammount of people\n",
    "lm = smf.ols('count ~ C(job_category)', data=dfA).fit()\n",
    "table = sm.stats.anova_lm(lm, test = 'F', typ = 2 )\n",
    "table"
   ]
  },
  {
   "cell_type": "markdown",
   "metadata": {},
   "source": [
    "GENERAL DISCUSSION ANOVA:\n",
    "\n",
    "\n",
    "ANOVA is used to compare differences of means among more than 2 groups. It does this by looking at variation in the data and where that variation is found (hence its name). Specifically, ANOVA compares the amount of variation between groups with the amount of variation within groups.\n",
    "\n",
    "First of all, we should mension that anova for only two groups is equal t.test and we should take the same result\n",
    "Even though, with t.test we can run one-tail test to examine if the proportion of seniors is statistically greater than the non-seniors and not only if the two proportions are  statistically significant different in general.\n",
    "\n",
    "MORE EXPLANATION FOR THE ANOVA TABLE\n",
    "df = degrees of freedom\n",
    "df between groups = k-1 = 2 - 1 = 1  (the number of groups minus 1)\n",
    "df between within groups = n-k = 733 - 2 = 731 (the number of observations minus the number of groups)\n",
    "\n",
    "sum_sq = sum of squares\n",
    "1rst row: The between-group variation (or between-group sums of squares, BSS) is calculated by comparing the mean of each group with the overall mean of the data. \n",
    "2nd row: The within-group variation (or the within-group sums of squares, ) is the variation of each observation from its group mean.\n",
    "\n",
    "mean_sq\n",
    "1rst row: Mean variation between groups. (Divide the Between-SS by the number of degrees of freedom)\n",
    "2nd row : Mean variation within groups. (Divede Within-SS by the total degrees of freedom)\n",
    "\n",
    "F-ratio = mean_variation_betwen_groups / mean_variation_within_groups\n",
    "If the average difference between groups is similar to that within groups, the F ratio is about 1. As the average difference between groups becomes greater than that within groups, the F ratio becomes larger than 1.\n",
    "\n",
    "P-value: \n",
    "We use F-distribution's table to find the corresponding pvalue.\n",
    "Larger F-ratios gives smaller P-values.\n",
    "For significant level of 0.05 we want a p-value less than 0.05 to reject the H_0 (says that the two categories (senior-non_senior) employ the same ammount of people)."
   ]
  },
  {
   "cell_type": "markdown",
   "metadata": {},
   "source": [
    "ANOTHER APROACH TO THE PROBLEM (personally I think it is better but maybe I am totally wrong)\n",
    "\n",
    "We can test if the percentage of seniors is statistically significant different than non-seniors\n",
    "Let's try this out..."
   ]
  },
  {
   "cell_type": "code",
   "execution_count": 6,
   "metadata": {},
   "outputs": [],
   "source": [
    "#Transform the data\n",
    "df_counts = dfA.groupby('job_category').sum()\n",
    "#count: the number of successes in nobs trials\n",
    "count = np.array([df_counts.iloc[1], df_counts.iloc[0]]) \n",
    "#nobs: the number of trials or observations, with the same length as sum(count).\n",
    "nobs = np.array([df_counts['count'].sum()])"
   ]
  },
  {
   "cell_type": "code",
   "execution_count": 7,
   "metadata": {},
   "outputs": [
    {
     "name": "stdout",
     "output_type": "stream",
     "text": [
      "[ 1.]\n"
     ]
    }
   ],
   "source": [
    "#DOCUMENTATION : http://www.statsmodels.org/dev/generated/statsmodels.stats.proportion.proportions_ztest.html\n",
    "#H0: p_seniors = p_non_seniors\n",
    "#H1: p_seniors > p_non_seniors\n",
    "z_score, p_value = sm.stats.proportions_ztest(count, nobs,alternative='larger')\n",
    "print(p_value)\n",
    "#obviously we not reject the H0 that says that the proportion of senior males same than non-seniors compared to h1 says that\n",
    "#seniors is greater than non_seniors"
   ]
  },
  {
   "cell_type": "markdown",
   "metadata": {},
   "source": [
    "Question 1: Case 2: We will compare MALE-SENIORS with FEMALE-SENIORS"
   ]
  },
  {
   "cell_type": "code",
   "execution_count": 8,
   "metadata": {},
   "outputs": [],
   "source": [
    "#ETL proccess\n",
    "dfB = df.loc[:,['gender', 'job_category','count']].dropna().copy()\n",
    "dfB = dfB[dfB.job_category != 'Totals']\n",
    "dfB = dfB[dfB.job_category != 'Previous_totals']\n",
    "\n",
    "dfB['count'] = dfB['count'].astype(int)\n",
    "\n",
    "dfB['job_category'] = dfB.apply(lambda row: 'senior' if row.job_category =='Executive/Senior officials & Mgrs' \\\n",
    "                        else 'non_senior', axis = 1)\n",
    "\n",
    "#prepare data for zproportion_test\n",
    "female_seniors = dfB.loc[(dfB['gender']=='female') & (dfB['job_category']=='senior'),['count']].sum()\n",
    "male_seniors = dfB.loc[(dfB['gender']=='male') & (dfB['job_category']=='senior'),['count']].sum()\n",
    "counts = np.array(male_seniors, female_seniors)\n",
    "female_non_seniors = dfB.loc[(dfB['gender']=='female') & (dfB['job_category']=='non_senior'),['count']].sum()\n",
    "male_non_seniors = dfB.loc[(dfB['gender']=='male') & (dfB['job_category']=='non_senior'),['count']].sum()\n",
    "nobs =  np.array(female_non_seniors,male_non_seniors)\n",
    "\n",
    "dfB = dfB[dfB['job_category'] == 'senior']\n",
    "dfB = dfB[dfB['count'] != 0]"
   ]
  },
  {
   "cell_type": "code",
   "execution_count": 9,
   "metadata": {},
   "outputs": [
    {
     "data": {
      "text/html": [
       "<div>\n",
       "<style>\n",
       "    .dataframe thead tr:only-child th {\n",
       "        text-align: right;\n",
       "    }\n",
       "\n",
       "    .dataframe thead th {\n",
       "        text-align: left;\n",
       "    }\n",
       "\n",
       "    .dataframe tbody tr th {\n",
       "        vertical-align: top;\n",
       "    }\n",
       "</style>\n",
       "<table border=\"1\" class=\"dataframe\">\n",
       "  <thead>\n",
       "    <tr style=\"text-align: right;\">\n",
       "      <th></th>\n",
       "      <th>sum_sq</th>\n",
       "      <th>df</th>\n",
       "      <th>F</th>\n",
       "      <th>PR(&gt;F)</th>\n",
       "    </tr>\n",
       "  </thead>\n",
       "  <tbody>\n",
       "    <tr>\n",
       "      <th>C(gender)</th>\n",
       "      <td>12795.256566</td>\n",
       "      <td>1.0</td>\n",
       "      <td>4.824174</td>\n",
       "      <td>0.029558</td>\n",
       "    </tr>\n",
       "    <tr>\n",
       "      <th>Residual</th>\n",
       "      <td>408457.410101</td>\n",
       "      <td>154.0</td>\n",
       "      <td>NaN</td>\n",
       "      <td>NaN</td>\n",
       "    </tr>\n",
       "  </tbody>\n",
       "</table>\n",
       "</div>"
      ],
      "text/plain": [
       "                  sum_sq     df         F    PR(>F)\n",
       "C(gender)   12795.256566    1.0  4.824174  0.029558\n",
       "Residual   408457.410101  154.0       NaN       NaN"
      ]
     },
     "execution_count": 9,
     "metadata": {},
     "output_type": "execute_result"
    }
   ],
   "source": [
    "lm_gender = smf.ols('count ~ C(gender)', data=dfB).fit()\n",
    "table = sm.stats.anova_lm(lm_gender, test = 'F', typ = 2 )\n",
    "table\n",
    "#Statistically significant difference between male_seniors-female_seniors"
   ]
  },
  {
   "cell_type": "code",
   "execution_count": 10,
   "metadata": {},
   "outputs": [
    {
     "name": "stdout",
     "output_type": "stream",
     "text": [
      "[  3.37912441e-24]\n"
     ]
    }
   ],
   "source": [
    "z_score, p_value = sm.stats.proportions_ztest([male_seniors, female_seniors], [male_non_seniors, female_non_seniors], alternative='larger')\n",
    "print(p_value)\n",
    "#reject h0 that says that the proportion of male_seniors = female_seniors compared to h1 that says that the proportion of male_seniors \n",
    "#is greater than female_seniors"
   ]
  },
  {
   "cell_type": "markdown",
   "metadata": {},
   "source": [
    "Question 2: Case 1: We will compare WHITE-SENIORS with WHITE-NON-SENIOR"
   ]
  },
  {
   "cell_type": "code",
   "execution_count": 33,
   "metadata": {},
   "outputs": [],
   "source": [
    "#(B)\n",
    "#ETL\n",
    "#The second question is similar with the first one.\n",
    "#Instead of selecting all the males this time we will select all whites\n",
    "#We will follow the same procedure. No further explanation needs here, its exactly the same case as above.\n",
    "dfC = df.loc[:,['race', 'job_category','count']].dropna().copy()\n",
    "dfC = dfC[dfC.job_category != 'Totals']\n",
    "dfC = dfC[dfC.job_category != 'Previous_totals']\n",
    "dfC = dfC[dfC['race'] == 'White']\n",
    "dfC = dfC[dfC['count'] !='0']\n",
    "dfC['count'] = dfC['count'].astype(int)\n",
    "\n",
    "dfC['job_category'] = dfC.apply(lambda row: 'senior' if row.job_category =='Executive/Senior officials & Mgrs' \\\n",
    "                        else 'non_senior', axis = 1)\n",
    "\n",
    "white_seniors = dfC.loc[(dfC['race']=='White') & (dfC['job_category']=='senior'), 'count'].sum()\n",
    "white_non_seniors = dfC.loc[(dfC['race']=='White') & (dfC['job_category']=='non_senior'), 'count'].sum()\n",
    "all_whites = white_seniors + white_non_seniors"
   ]
  },
  {
   "cell_type": "code",
   "execution_count": 19,
   "metadata": {},
   "outputs": [
    {
     "data": {
      "text/html": [
       "<div>\n",
       "<style>\n",
       "    .dataframe thead tr:only-child th {\n",
       "        text-align: right;\n",
       "    }\n",
       "\n",
       "    .dataframe thead th {\n",
       "        text-align: left;\n",
       "    }\n",
       "\n",
       "    .dataframe tbody tr th {\n",
       "        vertical-align: top;\n",
       "    }\n",
       "</style>\n",
       "<table border=\"1\" class=\"dataframe\">\n",
       "  <thead>\n",
       "    <tr style=\"text-align: right;\">\n",
       "      <th></th>\n",
       "      <th>sum_sq</th>\n",
       "      <th>df</th>\n",
       "      <th>F</th>\n",
       "      <th>PR(&gt;F)</th>\n",
       "    </tr>\n",
       "  </thead>\n",
       "  <tbody>\n",
       "    <tr>\n",
       "      <th>C(job_category)</th>\n",
       "      <td>2.639122e+07</td>\n",
       "      <td>1.0</td>\n",
       "      <td>6.655966</td>\n",
       "      <td>0.010424</td>\n",
       "    </tr>\n",
       "    <tr>\n",
       "      <th>Residual</th>\n",
       "      <td>1.046772e+09</td>\n",
       "      <td>264.0</td>\n",
       "      <td>NaN</td>\n",
       "      <td>NaN</td>\n",
       "    </tr>\n",
       "  </tbody>\n",
       "</table>\n",
       "</div>"
      ],
      "text/plain": [
       "                       sum_sq     df         F    PR(>F)\n",
       "C(job_category)  2.639122e+07    1.0  6.655966  0.010424\n",
       "Residual         1.046772e+09  264.0       NaN       NaN"
      ]
     },
     "execution_count": 19,
     "metadata": {},
     "output_type": "execute_result"
    }
   ],
   "source": [
    "#ANOVA\n",
    "#p-value is 0.01. One more time, for a = 0.05 we reject H0 that says the two categories (senior/non_senior)\n",
    "#employ the same ammount of WHITE people\n",
    "lm = smf.ols('count ~ C(job_category)', data=dfC).fit()\n",
    "table = sm.stats.anova_lm(lm, test = 'F', typ = 2 )\n",
    "table"
   ]
  },
  {
   "cell_type": "markdown",
   "metadata": {},
   "source": [
    "Question 2: Case 2: We will compare WHITE-SENIORS with ALL-OTHER-SENIORS"
   ]
  },
  {
   "cell_type": "code",
   "execution_count": 38,
   "metadata": {},
   "outputs": [],
   "source": [
    "#ETL proccess\n",
    "dfD = df.loc[:,['race', 'job_category','count']].dropna().copy()\n",
    "dfD = dfD[dfD.job_category != 'Totals']\n",
    "dfD = dfD[dfD.job_category != 'Previous_totals']\n",
    "\n",
    "dfD['count'] = dfD['count'].astype(int)\n",
    "\n",
    "dfD['job_category'] = dfD.apply(lambda row: 'senior' if row.job_category =='Executive/Senior officials & Mgrs' \\\n",
    "                        else 'non_senior', axis = 1)\n",
    "\n",
    "dfD['race'] = dfD.apply(lambda row: 'White' if row.race =='White' \\\n",
    "                        else 'other', axis = 1)\n",
    "\n",
    "#prepare data for zproportion_test\n",
    "white_seniors = dfD.loc[(dfD['race']=='White') & (dfD['job_category']=='senior'),['count']].sum()\n",
    "other_seniors = dfD.loc[(dfD['race']=='other') & (dfD['job_category']=='senior'),['count']].sum()\n",
    "counts = np.array(white_seniors, other_seniors)\n",
    "white_non_seniors = dfD.loc[(dfD['race']=='White') & (dfD['job_category']=='non_senior'),['count']].sum()\n",
    "other_non_seniors = dfD.loc[(dfD['race']=='other') & (dfD['job_category']=='non_senior'),['count']].sum()\n",
    "nobs =  np.array(white_non_seniors, other_non_seniors)\n",
    "\n",
    "dfD = dfD[dfD['job_category'] == 'senior']\n",
    "dfD = dfD[dfD['count'] != 0]"
   ]
  },
  {
   "cell_type": "code",
   "execution_count": 40,
   "metadata": {},
   "outputs": [
    {
     "data": {
      "text/html": [
       "<div>\n",
       "<style>\n",
       "    .dataframe thead tr:only-child th {\n",
       "        text-align: right;\n",
       "    }\n",
       "\n",
       "    .dataframe thead th {\n",
       "        text-align: left;\n",
       "    }\n",
       "\n",
       "    .dataframe tbody tr th {\n",
       "        vertical-align: top;\n",
       "    }\n",
       "</style>\n",
       "<table border=\"1\" class=\"dataframe\">\n",
       "  <thead>\n",
       "    <tr style=\"text-align: right;\">\n",
       "      <th></th>\n",
       "      <th>sum_sq</th>\n",
       "      <th>df</th>\n",
       "      <th>F</th>\n",
       "      <th>PR(&gt;F)</th>\n",
       "    </tr>\n",
       "  </thead>\n",
       "  <tbody>\n",
       "    <tr>\n",
       "      <th>C(race)</th>\n",
       "      <td>2.548133e+04</td>\n",
       "      <td>1.0</td>\n",
       "      <td>3.200931</td>\n",
       "      <td>0.075316</td>\n",
       "    </tr>\n",
       "    <tr>\n",
       "      <th>Residual</th>\n",
       "      <td>1.401066e+06</td>\n",
       "      <td>176.0</td>\n",
       "      <td>NaN</td>\n",
       "      <td>NaN</td>\n",
       "    </tr>\n",
       "  </tbody>\n",
       "</table>\n",
       "</div>"
      ],
      "text/plain": [
       "                sum_sq     df         F    PR(>F)\n",
       "C(race)   2.548133e+04    1.0  3.200931  0.075316\n",
       "Residual  1.401066e+06  176.0       NaN       NaN"
      ]
     },
     "execution_count": 40,
     "metadata": {},
     "output_type": "execute_result"
    }
   ],
   "source": [
    "#ANOVA\n",
    "#p-value is 0.075. For a = 0.05 we do not reject H0 that says the two categories (white/other)\n",
    "#employ the same ammount of senior people\n",
    "lm = smf.ols('count ~ C(race)', data=dfD).fit()\n",
    "table = sm.stats.anova_lm(lm, test = 'F', typ = 2 )\n",
    "table"
   ]
  },
  {
   "cell_type": "code",
   "execution_count": 42,
   "metadata": {},
   "outputs": [
    {
     "name": "stdout",
     "output_type": "stream",
     "text": [
      "[  4.79590353e-50]\n"
     ]
    }
   ],
   "source": [
    "z_score, p_value = sm.stats.proportions_ztest([white_seniors, other_seniors], [white_non_seniors, other_non_seniors], alternative='larger')\n",
    "print(p_value)\n",
    "#we reject the H0 that the 2 groups have the same proportion of people as seniors and non-seniors with H1: proportion_white_senior > proportion_other_senior\n"
   ]
  }
 ],
 "metadata": {
  "kernelspec": {
   "display_name": "Python 3",
   "language": "python",
   "name": "python3"
  },
  "language_info": {
   "codemirror_mode": {
    "name": "ipython",
    "version": 3
   },
   "file_extension": ".py",
   "mimetype": "text/x-python",
   "name": "python",
   "nbconvert_exporter": "python",
   "pygments_lexer": "ipython3",
   "version": "3.6.5"
  }
 },
 "nbformat": 4,
 "nbformat_minor": 2
}
